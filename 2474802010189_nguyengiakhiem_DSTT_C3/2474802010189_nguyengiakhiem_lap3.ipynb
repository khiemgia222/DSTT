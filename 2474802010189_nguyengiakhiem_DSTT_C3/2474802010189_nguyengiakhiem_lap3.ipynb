{
  "nbformat": 4,
  "nbformat_minor": 0,
  "metadata": {
    "colab": {
      "provenance": []
    },
    "kernelspec": {
      "name": "python3",
      "display_name": "Python 3"
    },
    "language_info": {
      "name": "python"
    }
  },
  "cells": [
    {
      "cell_type": "markdown",
      "source": [
        "# BÀI TẬP TRÊN LỚP\n"
      ],
      "metadata": {
        "id": "tggNCbW1S2xz"
      }
    },
    {
      "cell_type": "markdown",
      "source": [
        "Bài 1:"
      ],
      "metadata": {
        "id": "YTdTyyLHS7Ty"
      }
    },
    {
      "cell_type": "code",
      "source": [
        "\n"
      ],
      "metadata": {
        "id": "vDH0xti2jhew"
      },
      "execution_count": null,
      "outputs": []
    },
    {
      "cell_type": "code",
      "source": [
        "from scipy import linalg\n",
        "import numpy as np\n",
        "a = np.array([1, 2, 3])\n",
        "b = np.array([(1+9j, 2j, 3j), (4j, 5j, 6j)]) # số phức\n",
        "c = np.array([[ (0.5, 1.5, 10), (3,2,1) ] , [(6,5,4), (7,8,9)]]) # ma trận số thực\n",
        "\n",
        "A = np.matrix(np.random.random( (2,2) ) )\n",
        "B = np.asmatrix(b) # Chuyển b thành dạng ma trận\n",
        "C = np.matrix(np.random.random( (10,5) ) )\n",
        "D = np.matrix([ [4, 3], [2, 6] ])\n",
        "F = np.eye(3, k=1)\n",
        "F1= np.eye(3,k=0)\n",
        "F2 = np.eye(3,k=-1)\n",
        "print(A)\n",
        "print()\n",
        "print(B)\n",
        "print()\n",
        "print(C)\n",
        "print()\n",
        "print(D)\n",
        "print()\n",
        "print(F)\n",
        "print()\n",
        "print(F1)\n",
        "print()\n",
        "print(F2)"
      ],
      "metadata": {
        "colab": {
          "base_uri": "https://localhost:8080/"
        },
        "id": "1Yefo7VvYAGV",
        "outputId": "970d13ad-6f1d-4a9b-aeac-ef88b9ed5068"
      },
      "execution_count": 12,
      "outputs": [
        {
          "output_type": "stream",
          "name": "stdout",
          "text": [
            "[[0.37439442 0.27451606]\n",
            " [0.32263568 0.98520757]]\n",
            "\n",
            "[[1.+9.j 0.+2.j 0.+3.j]\n",
            " [0.+4.j 0.+5.j 0.+6.j]]\n",
            "\n",
            "[[0.68551413 0.22169021 0.98007883 0.63081758 0.11590424]\n",
            " [0.81653132 0.99353288 0.33304206 0.88916738 0.37668758]\n",
            " [0.9933554  0.19502131 0.15712988 0.23068128 0.10615953]\n",
            " [0.76528872 0.17199769 0.39163872 0.54772012 0.0707203 ]\n",
            " [0.40292316 0.57132108 0.05278056 0.76873234 0.88609007]\n",
            " [0.65609376 0.99544024 0.51990204 0.30037499 0.1757005 ]\n",
            " [0.0646304  0.44118622 0.10685933 0.84824164 0.31592953]\n",
            " [0.33244825 0.99900876 0.79979058 0.26218599 0.00809081]\n",
            " [0.27209956 0.41751776 0.11189998 0.12944082 0.83646288]\n",
            " [0.7154774  0.58978952 0.98262667 0.37757062 0.54778312]]\n",
            "\n",
            "[[4 3]\n",
            " [2 6]]\n",
            "\n",
            "[[0. 1. 0.]\n",
            " [0. 0. 1.]\n",
            " [0. 0. 0.]]\n",
            "\n",
            "[[1. 0. 0.]\n",
            " [0. 1. 0.]\n",
            " [0. 0. 1.]]\n",
            "\n",
            "[[0. 0. 0.]\n",
            " [1. 0. 0.]\n",
            " [0. 1. 0.]]\n"
          ]
        }
      ]
    },
    {
      "cell_type": "markdown",
      "source": [
        "Bài 2:\n"
      ],
      "metadata": {
        "id": "URwpGG4OWFWV"
      }
    },
    {
      "cell_type": "code",
      "source": [
        "from scipy import linalg\n",
        "import numpy as np\n",
        "A = np.matrix(np.random.random((2,2)))\n",
        "C = np.matrix(np.random.random((10,5)))\n",
        "rankC = np.linalg.matrix_rank(C)\n",
        "ND = A.I\n",
        "DT = linalg.det(A)\n",
        "CV = A.T\n",
        "CVLH = A.H\n",
        "print(rankC)\n",
        "print()\n",
        "print(ND)\n",
        "print()\n",
        "print(DT)\n",
        "print()\n",
        "print(CV)\n",
        "print()\n",
        "print(CVLH)"
      ],
      "metadata": {
        "colab": {
          "base_uri": "https://localhost:8080/"
        },
        "id": "0EEFwnyQWHhI",
        "outputId": "afe34f16-9d79-4925-e373-76b3073b2531"
      },
      "execution_count": 10,
      "outputs": [
        {
          "output_type": "stream",
          "name": "stdout",
          "text": [
            "5\n",
            "\n",
            "[[ 2.33156221 -0.46464342]\n",
            " [-2.32531445  1.84655512]]\n",
            "\n",
            "0.3100855877816562\n",
            "\n",
            "[[0.57259013 0.7210465 ]\n",
            " [0.14407923 0.72298384]]\n",
            "\n",
            "[[0.57259013 0.7210465 ]\n",
            " [0.14407923 0.72298384]]\n"
          ]
        }
      ]
    },
    {
      "cell_type": "markdown",
      "source": [
        "Bài 3:\n"
      ],
      "metadata": {
        "id": "7sw_BVUgYxsk"
      }
    },
    {
      "cell_type": "code",
      "source": [
        "from scipy import linalg\n",
        "from sympy import solve\n",
        "import numpy as np\n",
        "a = np.array([1, 2, 3])\n",
        "b = np.array([(1+9j, 2j, 3j), (4j, 5j, 6j)])\n",
        "A = np.matrix(np.random.random((2,2)))\n",
        "F = np.eye(3, k=1)\n",
        "\n",
        "print(linalg.solve(A,b))\n",
        "E = np.matrix(a).T\n",
        "print( linalg.lstsq(F, E) )"
      ],
      "metadata": {
        "colab": {
          "base_uri": "https://localhost:8080/"
        },
        "id": "hXpOKEoeYz-V",
        "outputId": "056c3150-c49a-4793-a6b9-89fbdb1828a2"
      },
      "execution_count": 15,
      "outputs": [
        {
          "output_type": "stream",
          "name": "stdout",
          "text": [
            "[[ 2.04133918+12.80332878j  0.         -2.87822643j\n",
            "   0.         -2.22906821j]\n",
            " [-0.53590236 +3.10056078j  0.         +8.83279778j\n",
            "   0.        +10.27781592j]]\n",
            "(array([[0.],\n",
            "       [1.],\n",
            "       [2.]]), array([], dtype=float64), 2, array([1., 1., 0.]))\n"
          ]
        }
      ]
    },
    {
      "cell_type": "markdown",
      "source": [
        "Bài 4:"
      ],
      "metadata": {
        "id": "rJIJP0DAaTjk"
      }
    },
    {
      "cell_type": "code",
      "source": [
        "from scipy import linalg\n",
        "import numpy as np\n",
        "A = np.matrix(np.random.random((2,2)))\n",
        "D = np.matrix([ [4, 3], [2, 6] ])\n",
        "# Cộng hai ma trận\n",
        "print('Phép cộng')\n",
        "print(np.add(A,D))\n",
        "# Trừ hai ma trận\n",
        "print('phép trừ')\n",
        "print(np.subtract(A,D))\n",
        "# Nhân hai ma trận\n",
        "print('Phép nhân')\n",
        "print(A@D)\n",
        "print(np.multiply(D,A))\n",
        "print(np.dot(A,D))\n",
        "print(np.vdot(A,D))\n",
        "# Hàm luỹ thừa và log ma trận\n",
        "print('Luỹ thừa và log')\n",
        "print(linalg.expm(A))\n",
        "print(linalg.logm(A))"
      ],
      "metadata": {
        "colab": {
          "base_uri": "https://localhost:8080/"
        },
        "id": "_xr0-33saU74",
        "outputId": "99df7010-748c-4b65-d8fa-6c0bf8a3524b"
      },
      "execution_count": 17,
      "outputs": [
        {
          "output_type": "stream",
          "name": "stdout",
          "text": [
            "Phép cộng\n",
            "[[4.4442388  3.51335302]\n",
            " [2.46971652 6.01782085]]\n",
            "phép trừ\n",
            "[[-3.5557612  -2.48664698]\n",
            " [-1.53028348 -5.98217915]]\n",
            "Phép nhân\n",
            "[[2.80366124 4.41283451]\n",
            " [1.91450777 1.51607464]]\n",
            "[[1.7769552  1.54005905]\n",
            " [0.93943304 0.10692508]]\n",
            "[[2.80366124 4.41283451]\n",
            " [1.91450777 1.51607464]]\n",
            "[[1.7769552]]\n",
            "Luỹ thừa và log\n",
            "[[1.72642284 0.67811043]\n",
            " [0.62046907 1.16314873]]\n",
            "[[-0.54397599+0.94519737j  0.44284246-1.50628325j]\n",
            " [ 0.40519956-1.3782448j  -0.91182417+2.19639528j]]\n"
          ]
        }
      ]
    },
    {
      "cell_type": "markdown",
      "source": [
        "Bài 5:"
      ],
      "metadata": {
        "id": "9WhFvQ46cPuj"
      }
    },
    {
      "cell_type": "code",
      "source": [
        "import numpy as np\n",
        "# tính ma trận A\n",
        "A = np.array([[1,0],[0,1]])\n",
        "print('Ma trận A',A)\n",
        "temp = A.dot(A)\n",
        "print('tính toán lần 1:',temp)\n",
        "k = 6\n",
        "for i in range(k-1):\n",
        "  temp = temp.dot(A)\n",
        "  print(temp)\n",
        "  print('---')\n"
      ],
      "metadata": {
        "colab": {
          "base_uri": "https://localhost:8080/"
        },
        "id": "xntgdz4WcR9F",
        "outputId": "78f98c4d-abfa-4434-a1fb-32eec8b3a8b1"
      },
      "execution_count": 23,
      "outputs": [
        {
          "output_type": "stream",
          "name": "stdout",
          "text": [
            "Ma trận A [[1 0]\n",
            " [0 1]]\n",
            "tính toán lần 1: [[1 0]\n",
            " [0 1]]\n",
            "[[1 0]\n",
            " [0 1]]\n",
            "---\n",
            "[[1 0]\n",
            " [0 1]]\n",
            "---\n",
            "[[1 0]\n",
            " [0 1]]\n",
            "---\n",
            "[[1 0]\n",
            " [0 1]]\n",
            "---\n",
            "[[1 0]\n",
            " [0 1]]\n",
            "---\n"
          ]
        }
      ]
    },
    {
      "cell_type": "markdown",
      "source": [
        "Bài 6:"
      ],
      "metadata": {
        "id": "i2RY7Dz_d13B"
      }
    },
    {
      "cell_type": "code",
      "source": [
        " # tính ma trận B\n",
        "import numpy as np\n",
        "B= np.array([[0,-1],[-1,0]])\n",
        "print('Ma trận B',B)\n",
        "temp = B.dot(B)\n",
        "print('tính toán lần 1:',temp)\n",
        "k = 5\n",
        "for i in range(k-1):\n",
        "  temp = temp.dot(B)\n",
        "  print(temp)\n",
        "  print('---')"
      ],
      "metadata": {
        "colab": {
          "base_uri": "https://localhost:8080/"
        },
        "id": "t183lvold3IQ",
        "outputId": "431cad5e-d4e3-45a5-85eb-fd30ce64a450"
      },
      "execution_count": 26,
      "outputs": [
        {
          "output_type": "stream",
          "name": "stdout",
          "text": [
            "Ma trận B [[ 0 -1]\n",
            " [-1  0]]\n",
            "tính toán lần 1: [[1 0]\n",
            " [0 1]]\n",
            "[[ 0 -1]\n",
            " [-1  0]]\n",
            "---\n",
            "[[1 0]\n",
            " [0 1]]\n",
            "---\n",
            "[[ 0 -1]\n",
            " [-1  0]]\n",
            "---\n",
            "[[1 0]\n",
            " [0 1]]\n",
            "---\n"
          ]
        }
      ]
    },
    {
      "cell_type": "markdown",
      "source": [
        "Bài 7:\n"
      ],
      "metadata": {
        "id": "kEpokhHdfGSp"
      }
    },
    {
      "cell_type": "code",
      "source": [
        "import numpy as np\n",
        "C = np.array([ [1, 0, 0], [0, 0.5, 1], [0, 0, 0.5] ])\n",
        "print(C)\n",
        "\n",
        "temp = C.dot(C) # tính toan lần thứ 1\n",
        "print(temp)\n",
        "k= 1000\n",
        "for i in range(k-1):\n",
        "  temp = temp.dot(C)\n",
        "print(temp)\n",
        "\n",
        "\n",
        "k= 1000\n",
        "for i in range(k-1):\n",
        " temp = temp.dot(C)\n",
        "print(temp)"
      ],
      "metadata": {
        "colab": {
          "base_uri": "https://localhost:8080/"
        },
        "id": "Fi4WNfIPfJqO",
        "outputId": "f7fb9472-ec00-45d2-9bde-d18b5107c720"
      },
      "execution_count": 27,
      "outputs": [
        {
          "output_type": "stream",
          "name": "stdout",
          "text": [
            "[[1.  0.  0. ]\n",
            " [0.  0.5 1. ]\n",
            " [0.  0.  0.5]]\n",
            "[[1.   0.   0.  ]\n",
            " [0.   0.25 1.  ]\n",
            " [0.   0.   0.25]]\n",
            "[[1.00000000e+000 0.00000000e+000 0.00000000e+000]\n",
            " [0.00000000e+000 4.66631809e-302 9.34196882e-299]\n",
            " [0.00000000e+000 0.00000000e+000 4.66631809e-302]]\n",
            "[[1. 0. 0.]\n",
            " [0. 0. 0.]\n",
            " [0. 0. 0.]]\n"
          ]
        }
      ]
    },
    {
      "cell_type": "markdown",
      "source": [
        "Bài 8:"
      ],
      "metadata": {
        "id": "iSputygSfnj8"
      }
    },
    {
      "cell_type": "code",
      "source": [
        "import numpy as np\n",
        "M = np.array([ [0.8, 0.3], [0.2, 0.7]])\n",
        "MM = M.dot(M) # tính M2, nghĩa là M2\n",
        "print (MM)\n",
        "\n",
        "MM = M.dot(M) # tính M3\n",
        "print (MM)\n",
        "\n",
        "for i in range(100): # tính các M^ khác.\n",
        " MM = MM.dot(M)\n",
        "print (MM) # kết luận xu hướng của jb"
      ],
      "metadata": {
        "colab": {
          "base_uri": "https://localhost:8080/"
        },
        "id": "sVYEhlcHfqT3",
        "outputId": "0014c66d-5d78-470d-bf9f-c9095708d908"
      },
      "execution_count": 28,
      "outputs": [
        {
          "output_type": "stream",
          "name": "stdout",
          "text": [
            "[[0.7  0.45]\n",
            " [0.3  0.55]]\n",
            "[[0.7  0.45]\n",
            " [0.3  0.55]]\n",
            "[[0.6 0.6]\n",
            " [0.4 0.4]]\n"
          ]
        }
      ]
    },
    {
      "cell_type": "markdown",
      "source": [
        "Bài 9:\n"
      ],
      "metadata": {
        "id": "oHFDQPBugQJK"
      }
    },
    {
      "cell_type": "code",
      "source": [
        "import numpy as np\n",
        "M = np.array([ [0.5, 0.5], [0.5, 0.5]])\n",
        "MM = M.dot(M) # tính M2, nghĩa là M2\n",
        "print (MM)\n",
        "\n",
        "MM = M.dot(M) # tính M3\n",
        "print (MM)\n",
        "\n",
        "for i in range(100): # tính các M^ khác.\n",
        " MM = MM.dot(M)\n",
        "print (MM) # kết luận xu hướng của jb"
      ],
      "metadata": {
        "colab": {
          "base_uri": "https://localhost:8080/"
        },
        "id": "xMNIHQ6dgRv4",
        "outputId": "abdce724-3497-4a7e-a996-bbf624d10abb"
      },
      "execution_count": 29,
      "outputs": [
        {
          "output_type": "stream",
          "name": "stdout",
          "text": [
            "[[0.5 0.5]\n",
            " [0.5 0.5]]\n",
            "[[0.5 0.5]\n",
            " [0.5 0.5]]\n",
            "[[0.5 0.5]\n",
            " [0.5 0.5]]\n"
          ]
        }
      ]
    },
    {
      "cell_type": "markdown",
      "source": [
        "Bài 10:"
      ],
      "metadata": {
        "id": "zVZWU-vdgnLw"
      }
    },
    {
      "cell_type": "code",
      "source": [
        "from scipy import linalg\n",
        "import numpy as np\n",
        "M = np.array([ [0.8, 0.3], [0.2, 0.7]])\n",
        "P, L, U = linalg.lu(M)\n",
        "print(P)\n",
        "print(L)\n",
        "print(U)\n",
        "print(L.dot(U))"
      ],
      "metadata": {
        "colab": {
          "base_uri": "https://localhost:8080/"
        },
        "id": "yBU1Uv2jgol9",
        "outputId": "d228d522-9f85-410c-817a-22f91989d67a"
      },
      "execution_count": 30,
      "outputs": [
        {
          "output_type": "stream",
          "name": "stdout",
          "text": [
            "[[1. 0.]\n",
            " [0. 1.]]\n",
            "[[1.   0.  ]\n",
            " [0.25 1.  ]]\n",
            "[[0.8   0.3  ]\n",
            " [0.    0.625]]\n",
            "[[0.8 0.3]\n",
            " [0.2 0.7]]\n"
          ]
        }
      ]
    },
    {
      "cell_type": "markdown",
      "source": [
        "Bài 11:\n"
      ],
      "metadata": {
        "id": "SuizdL-rheO2"
      }
    },
    {
      "cell_type": "code",
      "source": [
        "import numpy as np\n",
        "A = np.array([ [0,1,0,1],[0,0,1,0],[1,0,0,1],[1,1,0,0]])\n",
        "temp = A.dot(A)\n",
        "\n",
        "print(temp)\n",
        "\n",
        "temp = temp.dot(A)\n",
        "print(temp)"
      ],
      "metadata": {
        "colab": {
          "base_uri": "https://localhost:8080/"
        },
        "id": "orE3OjU9hgCG",
        "outputId": "98f89af6-ce59-4330-cf40-39d3c8c63001"
      },
      "execution_count": 31,
      "outputs": [
        {
          "output_type": "stream",
          "name": "stdout",
          "text": [
            "[[1 1 1 0]\n",
            " [1 0 0 1]\n",
            " [1 2 0 1]\n",
            " [0 1 1 1]]\n",
            "[[1 1 1 2]\n",
            " [1 2 0 1]\n",
            " [1 2 2 1]\n",
            " [2 1 1 1]]\n"
          ]
        }
      ]
    },
    {
      "cell_type": "markdown",
      "source": [
        "Bài 12:\n"
      ],
      "metadata": {
        "id": "sNnKYJGIh05P"
      }
    },
    {
      "cell_type": "code",
      "source": [
        "import numpy as np\n",
        "A = np.array([ [0,1,0,1],[0,0,1,0],[1,0,0,1],[1,1,0,0]])\n",
        "sumA = A\n",
        "temp = A.dot(A)\n",
        "k = 3\n",
        "sumA = sumA + temp\n",
        "for i in range(1, k-1):\n",
        " temp = temp.dot(A)\n",
        " sumA = sumA + temp\n",
        "print (temp)\n",
        "print (sumA)"
      ],
      "metadata": {
        "colab": {
          "base_uri": "https://localhost:8080/"
        },
        "id": "goD8CJ3Zh2vm",
        "outputId": "19d5d204-eab2-4716-da54-25bac19e308b"
      },
      "execution_count": 33,
      "outputs": [
        {
          "output_type": "stream",
          "name": "stdout",
          "text": [
            "[[1 1 1 2]\n",
            " [1 2 0 1]\n",
            " [1 2 2 1]\n",
            " [2 1 1 1]]\n",
            "[[2 3 2 3]\n",
            " [2 2 1 2]\n",
            " [3 4 2 3]\n",
            " [3 3 2 2]]\n"
          ]
        }
      ]
    },
    {
      "cell_type": "markdown",
      "source": [
        "# BÀI TẬP VỀ NHÀ"
      ],
      "metadata": {
        "id": "cKLRoQuOiF0h"
      }
    },
    {
      "cell_type": "markdown",
      "source": [
        "Bài 1:"
      ],
      "metadata": {
        "id": "vnkrNwOQir_P"
      }
    },
    {
      "cell_type": "code",
      "source": [
        "import numpy as np\n",
        "\n",
        "# a. Tạo một ma trận 3x3 khả nghịch\n",
        "A = np.array([[2, 1, 1],\n",
        "              [1, 3, 2],\n",
        "              [1, 0, 0]])\n",
        "\n",
        "print(\"Ma trận A:\")\n",
        "print(A)\n",
        "\n",
        "# Kiểm tra khả nghịch: ma trận có định thức khác 0\n",
        "det = np.linalg.det(A)\n",
        "print(\"\\nĐịnh thức của A:\", det)\n",
        "\n",
        "if det != 0:\n",
        "    print(\"→ Ma trận A là khả nghịch.\")\n",
        "\n",
        "    # Tính nghịch đảo\n",
        "    A_inv = np.linalg.inv(A)\n",
        "    print(\"\\nNghịch đảo của A:\")\n",
        "    print(A_inv)\n",
        "else:\n",
        "    print(\"→ Ma trận không khả nghịch. Chọn ma trận khác.\")\n",
        "\n",
        "# b. Nhập họ tên hoặc MSSV\n",
        "text = input(\"\\nNhập họ tên hoặc MSSV của bạn: \")\n",
        "\n",
        "# c. Mã hóa\n",
        "# Chuyển chuỗi thành mã ASCII\n",
        "ascii_vals = [ord(c) for c in text]\n",
        "\n",
        "# Thêm số 0 để đủ chia hết cho 3\n",
        "while len(ascii_vals) % 3 != 0:\n",
        "    ascii_vals.append(0)\n",
        "\n",
        "# Chuyển thành ma trận 3 dòng (mỗi cột là 1 vector 3 chiều)\n",
        "ascii_matrix = np.array(ascii_vals).reshape(-1, 3).T\n",
        "\n",
        "print(\"\\nMa trận mã ASCII (gốc):\")\n",
        "print(ascii_matrix)\n",
        "\n",
        "# Mã hóa bằng A\n",
        "encoded = A @ ascii_matrix\n",
        "print(\"\\nMa trận sau khi mã hóa:\")\n",
        "print(encoded)\n",
        "\n",
        "# d. Giải mã: nhân với A⁻¹\n",
        "decoded_matrix = A_inv @ encoded\n",
        "decoded_matrix = np.round(decoded_matrix).astype(int)  # Làm tròn và chuyển về int\n",
        "\n",
        "# Chuyển ngược lại chuỗi\n",
        "decoded_vals = decoded_matrix.T.flatten()\n",
        "decoded_text = ''.join(chr(val) for val in decoded_vals if val != 0)\n",
        "\n",
        "print(\"\\nGiải mã (chuỗi gốc):\", decoded_text)\n"
      ],
      "metadata": {
        "colab": {
          "base_uri": "https://localhost:8080/"
        },
        "id": "DLoLY-zTiyrS",
        "outputId": "97fb72d4-62d5-4f21-fe0a-618d0db77611"
      },
      "execution_count": 34,
      "outputs": [
        {
          "output_type": "stream",
          "name": "stdout",
          "text": [
            "Ma trận A:\n",
            "[[2 1 1]\n",
            " [1 3 2]\n",
            " [1 0 0]]\n",
            "\n",
            "Định thức của A: -1.0\n",
            "→ Ma trận A là khả nghịch.\n",
            "\n",
            "Nghịch đảo của A:\n",
            "[[ 0.  0.  1.]\n",
            " [-2.  1.  3.]\n",
            " [ 3. -1. -5.]]\n",
            "\n",
            "Nhập họ tên hoặc MSSV của bạn: 9413413946831\n",
            "\n",
            "Ma trận mã ASCII (gốc):\n",
            "[[57 51 51 54 49]\n",
            " [52 52 57 56  0]\n",
            " [49 49 52 51  0]]\n",
            "\n",
            "Ma trận sau khi mã hóa:\n",
            "[[215 203 211 215  98]\n",
            " [311 305 326 324  49]\n",
            " [ 57  51  51  54  49]]\n",
            "\n",
            "Giải mã (chuỗi gốc): 9413413946831\n"
          ]
        }
      ]
    }
  ]
}