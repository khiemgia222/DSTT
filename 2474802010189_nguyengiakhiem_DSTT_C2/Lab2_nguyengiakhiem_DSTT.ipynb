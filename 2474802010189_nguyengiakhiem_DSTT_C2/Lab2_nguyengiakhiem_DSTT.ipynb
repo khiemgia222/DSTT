{
  "nbformat": 4,
  "nbformat_minor": 0,
  "metadata": {
    "colab": {
      "provenance": []
    },
    "kernelspec": {
      "name": "python3",
      "display_name": "Python 3"
    },
    "language_info": {
      "name": "python"
    }
  },
  "cells": [
    {
      "cell_type": "markdown",
      "source": [
        "# BÀI TẬP TRÊN LỚP\n"
      ],
      "metadata": {
        "id": "wj_y6t6IVezI"
      }
    },
    {
      "cell_type": "markdown",
      "source": [
        "#Bài 1:"
      ],
      "metadata": {
        "id": "Gh0nfM_vZJBR"
      }
    },
    {
      "cell_type": "code",
      "source": [
        "def scale(a, v):\n",
        "  return [a*vi for vi in v]\n",
        "v = [3,5,7]\n",
        "print(scale(10, v))\n"
      ],
      "metadata": {
        "colab": {
          "base_uri": "https://localhost:8080/"
        },
        "id": "5uYRD_UyVbXA",
        "outputId": "74409184-c922-490e-f104-4c50aa19dae3"
      },
      "execution_count": 2,
      "outputs": [
        {
          "output_type": "stream",
          "name": "stdout",
          "text": [
            "[30, 50, 70]\n"
          ]
        }
      ]
    },
    {
      "cell_type": "markdown",
      "source": [
        "#Bài 2:\n"
      ],
      "metadata": {
        "id": "kLISCs-lZsCK"
      }
    },
    {
      "cell_type": "code",
      "source": [
        "def sumvector(v, w):\n",
        " return [vi+wi for (vi, wi) in zip(v, w)]\n",
        "v = [3,5,7]\n",
        "w = [2,4,6]\n",
        "print(sumvector(v, w))"
      ],
      "metadata": {
        "colab": {
          "base_uri": "https://localhost:8080/"
        },
        "id": "q9_nocU1Zu4C",
        "outputId": "39def9c8-6b53-4a72-9564-8e1fceb96b7b"
      },
      "execution_count": 3,
      "outputs": [
        {
          "output_type": "stream",
          "name": "stdout",
          "text": [
            "[5, 9, 13]\n"
          ]
        }
      ]
    },
    {
      "cell_type": "markdown",
      "source": [
        "#Bài 3:\n"
      ],
      "metadata": {
        "id": "hQNjM4R7fmaI"
      }
    },
    {
      "cell_type": "code",
      "source": [
        "def dotvector(v, w):\n",
        "\n",
        " return sum([vi*wi for (vi, wi) in zip(v, w)])\n",
        "print(dotvector(v, w))"
      ],
      "metadata": {
        "colab": {
          "base_uri": "https://localhost:8080/"
        },
        "id": "-8jTpLpVfqUn",
        "outputId": "85435092-2233-47ff-f885-1f9aa0f0ffb4"
      },
      "execution_count": 4,
      "outputs": [
        {
          "output_type": "stream",
          "name": "stdout",
          "text": [
            "68\n"
          ]
        }
      ]
    },
    {
      "cell_type": "markdown",
      "source": [
        "#Bài 4:\n"
      ],
      "metadata": {
        "id": "9MD70ysJf-WU"
      }
    },
    {
      "cell_type": "code",
      "source": [
        "def lenvector(v):\n",
        " return dotvector(v,v)\n",
        "print(lenvector(w))"
      ],
      "metadata": {
        "colab": {
          "base_uri": "https://localhost:8080/"
        },
        "id": "JRKSs6uXgAcE",
        "outputId": "96507971-4c08-4fc9-f4cb-a6abc0048f27"
      },
      "execution_count": 5,
      "outputs": [
        {
          "output_type": "stream",
          "name": "stdout",
          "text": [
            "56\n"
          ]
        }
      ]
    },
    {
      "cell_type": "markdown",
      "source": [
        "#Bài 5:"
      ],
      "metadata": {
        "id": "RFuyCVihgabG"
      }
    },
    {
      "cell_type": "code",
      "source": [
        "import numpy as np\n",
        "scores = np.array([-1, 1, 2, -3, 5, -4])\n",
        "print(scores >=0)\n",
        "print(scores <0)\n",
        "print(np.select([scores >= 0, scores < 0], [\"so duong\", \"so am\"], default=\"khong xac dinh\"))\n",
        "\n",
        "\n"
      ],
      "metadata": {
        "colab": {
          "base_uri": "https://localhost:8080/"
        },
        "id": "W7YKsPilgcgs",
        "outputId": "6371dc25-5d5d-4592-d59e-f5c7e18107d7"
      },
      "execution_count": 11,
      "outputs": [
        {
          "output_type": "stream",
          "name": "stdout",
          "text": [
            "[False  True  True False  True False]\n",
            "[ True False False  True False  True]\n",
            "['so am' 'so duong' 'so duong' 'so am' 'so duong' 'so am']\n"
          ]
        }
      ]
    },
    {
      "cell_type": "markdown",
      "source": [
        "#Bài 6:"
      ],
      "metadata": {
        "id": "vyl5T7YZiP87"
      }
    },
    {
      "cell_type": "code",
      "source": [
        "scores = np.array([-1, 1, 2, 0, -3, 5, 0, -4])\n",
        "print(np.select([scores >0, scores ==0, scores < 0],['so duong', 'so 0', 'so am'], default=\"khong xa dinh\"))"
      ],
      "metadata": {
        "colab": {
          "base_uri": "https://localhost:8080/"
        },
        "id": "CK_SyLV_iSDM",
        "outputId": "3889975f-c31d-4f5b-b9d6-1a5f22069058"
      },
      "execution_count": 12,
      "outputs": [
        {
          "output_type": "stream",
          "name": "stdout",
          "text": [
            "['so am' 'so duong' 'so duong' 'so 0' 'so am' 'so duong' 'so 0' 'so am']\n"
          ]
        }
      ]
    },
    {
      "cell_type": "markdown",
      "source": [
        "#Bài 7:"
      ],
      "metadata": {
        "id": "HPcdTodIiiSa"
      }
    },
    {
      "cell_type": "code",
      "source": [
        "import numpy as np\n",
        "D = np.asmatrix([[3,4],[5,6]])\n",
        "print(D)"
      ],
      "metadata": {
        "colab": {
          "base_uri": "https://localhost:8080/"
        },
        "id": "bVnPgVdMikND",
        "outputId": "bc1faadd-bc7f-4fb2-940e-db22fd6cb990"
      },
      "execution_count": 15,
      "outputs": [
        {
          "output_type": "stream",
          "name": "stdout",
          "text": [
            "[[3 4]\n",
            " [5 6]]\n"
          ]
        }
      ]
    },
    {
      "cell_type": "markdown",
      "source": [
        "#Bài 8:"
      ],
      "metadata": {
        "id": "3stkIYbhjY6x"
      }
    },
    {
      "cell_type": "code",
      "source": [
        "import numpy as np\n",
        "C = np.asmatrix(np.random.random((5,7)))\n",
        "print(C)"
      ],
      "metadata": {
        "colab": {
          "base_uri": "https://localhost:8080/"
        },
        "id": "Or3kIRagjay3",
        "outputId": "ef1534f1-416a-4d8a-81a5-b320c95f5ca0"
      },
      "execution_count": 18,
      "outputs": [
        {
          "output_type": "stream",
          "name": "stdout",
          "text": [
            "[[0.91815254 0.77331857 0.16420355 0.46794665 0.94597568 0.48724856\n",
            "  0.48771557]\n",
            " [0.37484886 0.54834458 0.81115585 0.89529056 0.97247062 0.11471496\n",
            "  0.14316668]\n",
            " [0.62129049 0.57670332 0.19465487 0.959244   0.42694962 0.59073743\n",
            "  0.20592356]\n",
            " [0.78101878 0.23388543 0.79321808 0.13600212 0.29409528 0.0920851\n",
            "  0.56124255]\n",
            " [0.81399476 0.47649275 0.3918061  0.63330131 0.43097059 0.1762662\n",
            "  0.85404948]]\n"
          ]
        }
      ]
    },
    {
      "cell_type": "markdown",
      "source": [
        "# Bài 9:\n"
      ],
      "metadata": {
        "id": "YHcyMwR9kCty"
      }
    },
    {
      "cell_type": "code",
      "source": [
        "import numpy as np\n",
        "A = np.asmatrix(np.random.random((2,2)))\n",
        "print (A)"
      ],
      "metadata": {
        "colab": {
          "base_uri": "https://localhost:8080/"
        },
        "id": "k6bt5Bs7kHFJ",
        "outputId": "754f8671-acbf-448c-d475-333c4cb8b82e"
      },
      "execution_count": 20,
      "outputs": [
        {
          "output_type": "stream",
          "name": "stdout",
          "text": [
            "[[0.41291381 0.68103432]\n",
            " [0.10160627 0.5341843 ]]\n"
          ]
        }
      ]
    },
    {
      "cell_type": "markdown",
      "source": [
        "#Bài 10:"
      ],
      "metadata": {
        "id": "Id1SRCWUkYj5"
      }
    },
    {
      "cell_type": "code",
      "source": [
        "import numpy as np\n",
        "b = np.array([(1+5j, 2j, 3j),(4, 5,6)])\n",
        "B = np.asmatrix(b)\n",
        "\n",
        "\n",
        "print (b)\n",
        "print (B)"
      ],
      "metadata": {
        "colab": {
          "base_uri": "https://localhost:8080/"
        },
        "id": "xBvG9_wwkaaq",
        "outputId": "b4b77c75-3ea0-4a12-966e-33e94e851413"
      },
      "execution_count": 21,
      "outputs": [
        {
          "output_type": "stream",
          "name": "stdout",
          "text": [
            "[[1.+5.j 0.+2.j 0.+3.j]\n",
            " [4.+0.j 5.+0.j 6.+0.j]]\n",
            "[[1.+5.j 0.+2.j 0.+3.j]\n",
            " [4.+0.j 5.+0.j 6.+0.j]]\n"
          ]
        }
      ]
    },
    {
      "cell_type": "markdown",
      "source": [
        "#Bai 11:"
      ],
      "metadata": {
        "id": "q3qkdxrkkuRc"
      }
    },
    {
      "cell_type": "code",
      "source": [
        "import numpy as np\n",
        "\n",
        "A = np.array([[1, 2, 3],\n",
        "              [4, 5, 6]])\n",
        "print(\"Chuyển vị của ma trận:\",A.T)\n"
      ],
      "metadata": {
        "colab": {
          "base_uri": "https://localhost:8080/"
        },
        "id": "ROlIeNqNkwpB",
        "outputId": "2ebbe99c-9642-44c7-cf7a-bc637bd9f921"
      },
      "execution_count": 1,
      "outputs": [
        {
          "output_type": "stream",
          "name": "stdout",
          "text": [
            "Chuyển vị của ma trận: [[1 4]\n",
            " [2 5]\n",
            " [3 6]]\n"
          ]
        }
      ]
    },
    {
      "cell_type": "markdown",
      "source": [
        "#Bài 12:"
      ],
      "metadata": {
        "id": "tUULnbWYly7M"
      }
    },
    {
      "cell_type": "code",
      "source": [
        "import numpy as np\n",
        "\n",
        "A = np.array([[1, 2],\n",
        "              [3, 4]])\n",
        "\n",
        "inv_A = np.linalg.inv(A)\n",
        "\n",
        "print(\"\\nMa trận nghịch đảo của A:\")\n",
        "print(inv_A)\n"
      ],
      "metadata": {
        "colab": {
          "base_uri": "https://localhost:8080/"
        },
        "id": "DgVInLyvl2af",
        "outputId": "8a71b9f3-c70d-4448-fc3f-c913c1bba795"
      },
      "execution_count": 26,
      "outputs": [
        {
          "output_type": "stream",
          "name": "stdout",
          "text": [
            "\n",
            "Ma trận nghịch đảo của A:\n",
            "[[-2.   1. ]\n",
            " [ 1.5 -0.5]]\n"
          ]
        }
      ]
    },
    {
      "cell_type": "markdown",
      "source": [
        "#Bài 13:"
      ],
      "metadata": {
        "id": "0f5QPQ8cmeoj"
      }
    },
    {
      "cell_type": "code",
      "source": [
        "import numpy as np\n",
        "M = np.array([[-1,3,2],[0,-2,1],[1,5,-2]])\n",
        "M_lower = np.tril(M)\n",
        "print('Ma trận dưới từ dường chéo:',M_lower)\n"
      ],
      "metadata": {
        "colab": {
          "base_uri": "https://localhost:8080/"
        },
        "id": "flcuYodemg4D",
        "outputId": "1f82dad0-9250-4d3f-881e-41e9316f1cf8"
      },
      "execution_count": 27,
      "outputs": [
        {
          "output_type": "stream",
          "name": "stdout",
          "text": [
            "Ma trận dưới từ dường chéo: [[-1  0  0]\n",
            " [ 0 -2  0]\n",
            " [ 1  5 -2]]\n"
          ]
        }
      ]
    },
    {
      "cell_type": "markdown",
      "source": [
        "#Bài 14:"
      ],
      "metadata": {
        "id": "d86V4Zo1myOR"
      }
    },
    {
      "cell_type": "code",
      "source": [
        "import numpy as np\n",
        "M = np.array([[-1,3,2],[0,-2,1],[1,5,-2]])\n",
        "M_upper = np.triu(M)\n",
        "print('Ma trận trên từ đường chéo:',M_upper)"
      ],
      "metadata": {
        "colab": {
          "base_uri": "https://localhost:8080/"
        },
        "id": "K-xUpgDnm1p8",
        "outputId": "38112f79-d075-4e82-c165-623dcf8abe90"
      },
      "execution_count": 28,
      "outputs": [
        {
          "output_type": "stream",
          "name": "stdout",
          "text": [
            "Ma trận trên từ đường chéo: [[-1  3  2]\n",
            " [ 0 -2  1]\n",
            " [ 0  0 -2]]\n"
          ]
        }
      ]
    },
    {
      "cell_type": "markdown",
      "source": [
        "#Bài 15:"
      ],
      "metadata": {
        "id": "nqUoax5SnM8y"
      }
    },
    {
      "cell_type": "code",
      "source": [
        "import numpy as np\n",
        "M = np.array([[-1,3,2],[0,-2,1],[1,5,-2]])\n",
        "v_diag = np.diag(M) #vectorđường chéo\n",
        "print (v_diag)\n",
        "M_diag = np.diag(v_diag)\n",
        "print (M_diag)"
      ],
      "metadata": {
        "colab": {
          "base_uri": "https://localhost:8080/"
        },
        "id": "YBkE0AynnOXP",
        "outputId": "f03c60f4-6bbf-4628-e6cf-7fcb162176d1"
      },
      "execution_count": 29,
      "outputs": [
        {
          "output_type": "stream",
          "name": "stdout",
          "text": [
            "[-1 -2 -2]\n",
            "[[-1  0  0]\n",
            " [ 0 -2  0]\n",
            " [ 0  0 -2]]\n"
          ]
        }
      ]
    },
    {
      "cell_type": "markdown",
      "source": [
        "#Bài 16:\n"
      ],
      "metadata": {
        "id": "eY-dMbaFnius"
      }
    },
    {
      "cell_type": "code",
      "source": [
        "from sympy import symbols, solve\n",
        "x,y,z = symbols('x,y,z')\n",
        "print(solve([x*x+2-6, y-1-6, x+z-1, 2*x*x-8, z*z+4-5, y-z-8], [x,y,z]))"
      ],
      "metadata": {
        "colab": {
          "base_uri": "https://localhost:8080/"
        },
        "id": "4O2ZO5JInlFm",
        "outputId": "a9f4f515-85be-44e8-a785-0c61ee5996f2"
      },
      "execution_count": 32,
      "outputs": [
        {
          "output_type": "stream",
          "name": "stdout",
          "text": [
            "[(2, 7, -1)]\n"
          ]
        }
      ]
    }
  ]
}