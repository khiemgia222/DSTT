{
  "nbformat": 4,
  "nbformat_minor": 0,
  "metadata": {
    "colab": {
      "provenance": []
    },
    "kernelspec": {
      "name": "python3",
      "display_name": "Python 3"
    },
    "language_info": {
      "name": "python"
    }
  },
  "cells": [
    {
      "cell_type": "markdown",
      "source": [
        "# BÀI TẬP TRÊN LỚP\n"
      ],
      "metadata": {
        "id": "wj_y6t6IVezI"
      }
    },
    {
      "cell_type": "markdown",
      "source": [
        "#Bài 1:"
      ],
      "metadata": {
        "id": "Gh0nfM_vZJBR"
      }
    },
    {
      "cell_type": "code",
      "source": [
        "def scale(a, v):\n",
        "  return [a*vi for vi in v]\n",
        "v = [3,5,7]\n",
        "print(scale(10, v))\n"
      ],
      "metadata": {
        "colab": {
          "base_uri": "https://localhost:8080/"
        },
        "id": "5uYRD_UyVbXA",
        "outputId": "74409184-c922-490e-f104-4c50aa19dae3"
      },
      "execution_count": null,
      "outputs": [
        {
          "output_type": "stream",
          "name": "stdout",
          "text": [
            "[30, 50, 70]\n"
          ]
        }
      ]
    },
    {
      "cell_type": "markdown",
      "source": [
        "#Bài 2:\n"
      ],
      "metadata": {
        "id": "kLISCs-lZsCK"
      }
    },
    {
      "cell_type": "code",
      "source": [
        "def sumvector(v, w):\n",
        " return [vi+wi for (vi, wi) in zip(v, w)]\n",
        "v = [3,5,7]\n",
        "w = [2,4,6]\n",
        "print(sumvector(v, w))"
      ],
      "metadata": {
        "colab": {
          "base_uri": "https://localhost:8080/"
        },
        "id": "q9_nocU1Zu4C",
        "outputId": "39def9c8-6b53-4a72-9564-8e1fceb96b7b"
      },
      "execution_count": null,
      "outputs": [
        {
          "output_type": "stream",
          "name": "stdout",
          "text": [
            "[5, 9, 13]\n"
          ]
        }
      ]
    },
    {
      "cell_type": "markdown",
      "source": [
        "#Bài 3:\n"
      ],
      "metadata": {
        "id": "hQNjM4R7fmaI"
      }
    },
    {
      "cell_type": "code",
      "source": [
        "def dotvector(v, w):\n",
        "\n",
        " return sum([vi*wi for (vi, wi) in zip(v, w)])\n",
        "print(dotvector(v, w))"
      ],
      "metadata": {
        "colab": {
          "base_uri": "https://localhost:8080/"
        },
        "id": "-8jTpLpVfqUn",
        "outputId": "85435092-2233-47ff-f885-1f9aa0f0ffb4"
      },
      "execution_count": null,
      "outputs": [
        {
          "output_type": "stream",
          "name": "stdout",
          "text": [
            "68\n"
          ]
        }
      ]
    },
    {
      "cell_type": "markdown",
      "source": [
        "#Bài 4:\n"
      ],
      "metadata": {
        "id": "9MD70ysJf-WU"
      }
    },
    {
      "cell_type": "code",
      "source": [
        "def lenvector(v):\n",
        " return dotvector(v,v)\n",
        "print(lenvector(w))"
      ],
      "metadata": {
        "colab": {
          "base_uri": "https://localhost:8080/"
        },
        "id": "JRKSs6uXgAcE",
        "outputId": "96507971-4c08-4fc9-f4cb-a6abc0048f27"
      },
      "execution_count": null,
      "outputs": [
        {
          "output_type": "stream",
          "name": "stdout",
          "text": [
            "56\n"
          ]
        }
      ]
    },
    {
      "cell_type": "markdown",
      "source": [
        "#Bài 5:"
      ],
      "metadata": {
        "id": "RFuyCVihgabG"
      }
    },
    {
      "cell_type": "code",
      "source": [
        "import numpy as np\n",
        "scores = np.array([-1, 1, 2, -3, 5, -4])\n",
        "print(scores >=0)\n",
        "print(scores <0)\n",
        "print(np.select([scores >= 0, scores < 0], [\"so duong\", \"so am\"], default=\"khong xac dinh\"))\n",
        "\n",
        "\n"
      ],
      "metadata": {
        "colab": {
          "base_uri": "https://localhost:8080/"
        },
        "id": "W7YKsPilgcgs",
        "outputId": "6371dc25-5d5d-4592-d59e-f5c7e18107d7"
      },
      "execution_count": null,
      "outputs": [
        {
          "output_type": "stream",
          "name": "stdout",
          "text": [
            "[False  True  True False  True False]\n",
            "[ True False False  True False  True]\n",
            "['so am' 'so duong' 'so duong' 'so am' 'so duong' 'so am']\n"
          ]
        }
      ]
    },
    {
      "cell_type": "markdown",
      "source": [
        "#Bài 6:"
      ],
      "metadata": {
        "id": "vyl5T7YZiP87"
      }
    },
    {
      "cell_type": "code",
      "source": [
        "scores = np.array([-1, 1, 2, 0, -3, 5, 0, -4])\n",
        "print(np.select([scores >0, scores ==0, scores < 0],['so duong', 'so 0', 'so am'], default=\"khong xa dinh\"))"
      ],
      "metadata": {
        "colab": {
          "base_uri": "https://localhost:8080/"
        },
        "id": "CK_SyLV_iSDM",
        "outputId": "3889975f-c31d-4f5b-b9d6-1a5f22069058"
      },
      "execution_count": null,
      "outputs": [
        {
          "output_type": "stream",
          "name": "stdout",
          "text": [
            "['so am' 'so duong' 'so duong' 'so 0' 'so am' 'so duong' 'so 0' 'so am']\n"
          ]
        }
      ]
    },
    {
      "cell_type": "markdown",
      "source": [
        "#Bài 7:"
      ],
      "metadata": {
        "id": "HPcdTodIiiSa"
      }
    },
    {
      "cell_type": "code",
      "source": [
        "import numpy as np\n",
        "D = np.asmatrix([[3,4],[5,6]])\n",
        "print(D)"
      ],
      "metadata": {
        "colab": {
          "base_uri": "https://localhost:8080/"
        },
        "id": "bVnPgVdMikND",
        "outputId": "bc1faadd-bc7f-4fb2-940e-db22fd6cb990"
      },
      "execution_count": null,
      "outputs": [
        {
          "output_type": "stream",
          "name": "stdout",
          "text": [
            "[[3 4]\n",
            " [5 6]]\n"
          ]
        }
      ]
    },
    {
      "cell_type": "markdown",
      "source": [
        "#Bài 8:"
      ],
      "metadata": {
        "id": "3stkIYbhjY6x"
      }
    },
    {
      "cell_type": "code",
      "source": [
        "import numpy as np\n",
        "C = np.asmatrix(np.random.random((5,7)))\n",
        "print(C)"
      ],
      "metadata": {
        "colab": {
          "base_uri": "https://localhost:8080/"
        },
        "id": "Or3kIRagjay3",
        "outputId": "ef1534f1-416a-4d8a-81a5-b320c95f5ca0"
      },
      "execution_count": null,
      "outputs": [
        {
          "output_type": "stream",
          "name": "stdout",
          "text": [
            "[[0.91815254 0.77331857 0.16420355 0.46794665 0.94597568 0.48724856\n",
            "  0.48771557]\n",
            " [0.37484886 0.54834458 0.81115585 0.89529056 0.97247062 0.11471496\n",
            "  0.14316668]\n",
            " [0.62129049 0.57670332 0.19465487 0.959244   0.42694962 0.59073743\n",
            "  0.20592356]\n",
            " [0.78101878 0.23388543 0.79321808 0.13600212 0.29409528 0.0920851\n",
            "  0.56124255]\n",
            " [0.81399476 0.47649275 0.3918061  0.63330131 0.43097059 0.1762662\n",
            "  0.85404948]]\n"
          ]
        }
      ]
    },
    {
      "cell_type": "markdown",
      "source": [
        "# Bài 9:\n"
      ],
      "metadata": {
        "id": "YHcyMwR9kCty"
      }
    },
    {
      "cell_type": "code",
      "source": [
        "import numpy as np\n",
        "A = np.asmatrix(np.random.random((2,2)))\n",
        "print (A)"
      ],
      "metadata": {
        "colab": {
          "base_uri": "https://localhost:8080/"
        },
        "id": "k6bt5Bs7kHFJ",
        "outputId": "754f8671-acbf-448c-d475-333c4cb8b82e"
      },
      "execution_count": null,
      "outputs": [
        {
          "output_type": "stream",
          "name": "stdout",
          "text": [
            "[[0.41291381 0.68103432]\n",
            " [0.10160627 0.5341843 ]]\n"
          ]
        }
      ]
    },
    {
      "cell_type": "markdown",
      "source": [
        "#Bài 10:"
      ],
      "metadata": {
        "id": "Id1SRCWUkYj5"
      }
    },
    {
      "cell_type": "code",
      "source": [
        "import numpy as np\n",
        "b = np.array([(1+5j, 2j, 3j),(4, 5,6)])\n",
        "B = np.asmatrix(b)\n",
        "\n",
        "\n",
        "print (b)\n",
        "print (B)"
      ],
      "metadata": {
        "colab": {
          "base_uri": "https://localhost:8080/"
        },
        "id": "xBvG9_wwkaaq",
        "outputId": "b4b77c75-3ea0-4a12-966e-33e94e851413"
      },
      "execution_count": null,
      "outputs": [
        {
          "output_type": "stream",
          "name": "stdout",
          "text": [
            "[[1.+5.j 0.+2.j 0.+3.j]\n",
            " [4.+0.j 5.+0.j 6.+0.j]]\n",
            "[[1.+5.j 0.+2.j 0.+3.j]\n",
            " [4.+0.j 5.+0.j 6.+0.j]]\n"
          ]
        }
      ]
    },
    {
      "cell_type": "markdown",
      "source": [
        "#Bai 11:"
      ],
      "metadata": {
        "id": "q3qkdxrkkuRc"
      }
    },
    {
      "cell_type": "code",
      "source": [
        "import numpy as np\n",
        "\n",
        "A = np.array([[1, 2, 3],\n",
        "              [4, 5, 6]])\n",
        "print(\"Chuyển vị của ma trận:\",A.T)\n"
      ],
      "metadata": {
        "colab": {
          "base_uri": "https://localhost:8080/"
        },
        "id": "ROlIeNqNkwpB",
        "outputId": "2ebbe99c-9642-44c7-cf7a-bc637bd9f921"
      },
      "execution_count": null,
      "outputs": [
        {
          "output_type": "stream",
          "name": "stdout",
          "text": [
            "Chuyển vị của ma trận: [[1 4]\n",
            " [2 5]\n",
            " [3 6]]\n"
          ]
        }
      ]
    },
    {
      "cell_type": "markdown",
      "source": [
        "#Bài 12:"
      ],
      "metadata": {
        "id": "tUULnbWYly7M"
      }
    },
    {
      "cell_type": "code",
      "source": [
        "import numpy as np\n",
        "\n",
        "A = np.array([[1, 2],\n",
        "              [3, 4]])\n",
        "\n",
        "inv_A = np.linalg.inv(A)\n",
        "\n",
        "print(\"\\nMa trận nghịch đảo của A:\")\n",
        "print(inv_A)\n"
      ],
      "metadata": {
        "colab": {
          "base_uri": "https://localhost:8080/"
        },
        "id": "DgVInLyvl2af",
        "outputId": "8a71b9f3-c70d-4448-fc3f-c913c1bba795"
      },
      "execution_count": null,
      "outputs": [
        {
          "output_type": "stream",
          "name": "stdout",
          "text": [
            "\n",
            "Ma trận nghịch đảo của A:\n",
            "[[-2.   1. ]\n",
            " [ 1.5 -0.5]]\n"
          ]
        }
      ]
    },
    {
      "cell_type": "markdown",
      "source": [
        "#Bài 13:"
      ],
      "metadata": {
        "id": "0f5QPQ8cmeoj"
      }
    },
    {
      "cell_type": "code",
      "source": [
        "import numpy as np\n",
        "M = np.array([[-1,3,2],[0,-2,1],[1,5,-2]])\n",
        "M_lower = np.tril(M)\n",
        "print('Ma trận dưới từ dường chéo:',M_lower)\n"
      ],
      "metadata": {
        "colab": {
          "base_uri": "https://localhost:8080/"
        },
        "id": "flcuYodemg4D",
        "outputId": "1f82dad0-9250-4d3f-881e-41e9316f1cf8"
      },
      "execution_count": null,
      "outputs": [
        {
          "output_type": "stream",
          "name": "stdout",
          "text": [
            "Ma trận dưới từ dường chéo: [[-1  0  0]\n",
            " [ 0 -2  0]\n",
            " [ 1  5 -2]]\n"
          ]
        }
      ]
    },
    {
      "cell_type": "markdown",
      "source": [
        "#Bài 14:"
      ],
      "metadata": {
        "id": "d86V4Zo1myOR"
      }
    },
    {
      "cell_type": "code",
      "source": [
        "import numpy as np\n",
        "M = np.array([[-1,3,2],[0,-2,1],[1,5,-2]])\n",
        "M_upper = np.triu(M)\n",
        "print('Ma trận trên từ đường chéo:',M_upper)"
      ],
      "metadata": {
        "colab": {
          "base_uri": "https://localhost:8080/"
        },
        "id": "K-xUpgDnm1p8",
        "outputId": "38112f79-d075-4e82-c165-623dcf8abe90"
      },
      "execution_count": null,
      "outputs": [
        {
          "output_type": "stream",
          "name": "stdout",
          "text": [
            "Ma trận trên từ đường chéo: [[-1  3  2]\n",
            " [ 0 -2  1]\n",
            " [ 0  0 -2]]\n"
          ]
        }
      ]
    },
    {
      "cell_type": "markdown",
      "source": [
        "#Bài 15:"
      ],
      "metadata": {
        "id": "nqUoax5SnM8y"
      }
    },
    {
      "cell_type": "code",
      "source": [
        "import numpy as np\n",
        "M = np.array([[-1,3,2],[0,-2,1],[1,5,-2]])\n",
        "v_diag = np.diag(M) #vectorđường chéo\n",
        "print (v_diag)\n",
        "M_diag = np.diag(v_diag)\n",
        "print (M_diag)"
      ],
      "metadata": {
        "colab": {
          "base_uri": "https://localhost:8080/"
        },
        "id": "YBkE0AynnOXP",
        "outputId": "f03c60f4-6bbf-4628-e6cf-7fcb162176d1"
      },
      "execution_count": null,
      "outputs": [
        {
          "output_type": "stream",
          "name": "stdout",
          "text": [
            "[-1 -2 -2]\n",
            "[[-1  0  0]\n",
            " [ 0 -2  0]\n",
            " [ 0  0 -2]]\n"
          ]
        }
      ]
    },
    {
      "cell_type": "markdown",
      "source": [
        "#Bài 16:\n"
      ],
      "metadata": {
        "id": "eY-dMbaFnius"
      }
    },
    {
      "cell_type": "code",
      "source": [
        "from sympy import symbols, solve\n",
        "x,y,z = symbols('x,y,z')\n",
        "print(solve([x*x+2-6, y-1-6, x+z-1, 2*x*x-8, z*z+4-5, y-z-8], [x,y,z]))"
      ],
      "metadata": {
        "colab": {
          "base_uri": "https://localhost:8080/"
        },
        "id": "4O2ZO5JInlFm",
        "outputId": "a9f4f515-85be-44e8-a785-0c61ee5996f2"
      },
      "execution_count": null,
      "outputs": [
        {
          "output_type": "stream",
          "name": "stdout",
          "text": [
            "[(2, 7, -1)]\n"
          ]
        }
      ]
    },
    {
      "cell_type": "markdown",
      "source": [
        "#Bài 17:"
      ],
      "metadata": {
        "id": "dgXXu4kECEDV"
      }
    },
    {
      "cell_type": "code",
      "source": [
        "import numpy as np\n",
        "A = np.reshape(np.arange(36.0), (6,6))\n",
        "print(A)\n",
        "I6 = np.identity(6)\n",
        "print(I6)\n",
        "print(A.size)\n",
        "print(np.matrix.diagonal(A))\n",
        "A1 =A + I6\n",
        "print(A1)"
      ],
      "metadata": {
        "colab": {
          "base_uri": "https://localhost:8080/"
        },
        "id": "VGJD7b9pCF8d",
        "outputId": "83c5dedd-79d7-426e-983e-877aa4b3232f"
      },
      "execution_count": 6,
      "outputs": [
        {
          "output_type": "stream",
          "name": "stdout",
          "text": [
            "[[ 0.  1.  2.  3.  4.  5.]\n",
            " [ 6.  7.  8.  9. 10. 11.]\n",
            " [12. 13. 14. 15. 16. 17.]\n",
            " [18. 19. 20. 21. 22. 23.]\n",
            " [24. 25. 26. 27. 28. 29.]\n",
            " [30. 31. 32. 33. 34. 35.]]\n",
            "[[1. 0. 0. 0. 0. 0.]\n",
            " [0. 1. 0. 0. 0. 0.]\n",
            " [0. 0. 1. 0. 0. 0.]\n",
            " [0. 0. 0. 1. 0. 0.]\n",
            " [0. 0. 0. 0. 1. 0.]\n",
            " [0. 0. 0. 0. 0. 1.]]\n",
            "36\n",
            "[ 0.  7. 14. 21. 28. 35.]\n",
            "[[ 1.  1.  2.  3.  4.  5.]\n",
            " [ 6.  8.  8.  9. 10. 11.]\n",
            " [12. 13. 15. 15. 16. 17.]\n",
            " [18. 19. 20. 22. 22. 23.]\n",
            " [24. 25. 26. 27. 29. 29.]\n",
            " [30. 31. 32. 33. 34. 36.]]\n"
          ]
        }
      ]
    },
    {
      "cell_type": "markdown",
      "source": [
        "#Bài 18:"
      ],
      "metadata": {
        "id": "VH5fMWAmJjPZ"
      }
    },
    {
      "cell_type": "code",
      "source": [
        "import numpy as np\n",
        "A = np.reshape(np.arange(36.0), (6,6))\n",
        "vecB = np.array([1,2,3,4,5,6])\n",
        "C =A.dot(vecB)\n",
        "print(C)"
      ],
      "metadata": {
        "colab": {
          "base_uri": "https://localhost:8080/"
        },
        "id": "TCJQB1TMJlpm",
        "outputId": "cf074beb-0e11-417e-fbd9-573539c8fd07"
      },
      "execution_count": 7,
      "outputs": [
        {
          "output_type": "stream",
          "name": "stdout",
          "text": [
            "[ 70. 196. 322. 448. 574. 700.]\n"
          ]
        }
      ]
    },
    {
      "cell_type": "markdown",
      "source": [
        "#Bài 19:\n"
      ],
      "metadata": {
        "id": "44jIMK09Vi03"
      }
    },
    {
      "cell_type": "code",
      "source": [
        "import numpy as np\n",
        "A = np.reshape(np.arange(36.0), (6,6))\n",
        "D = np.array([[1., 2., 3., 4., 5., 6.], [1., 0., 1., 0., 1., 0.]])\n",
        "print(D)\n",
        "E = D.dot(A)\n",
        "print(E)"
      ],
      "metadata": {
        "colab": {
          "base_uri": "https://localhost:8080/"
        },
        "id": "wEh5JmmVVkv6",
        "outputId": "90eedd14-2eab-49e0-8d99-92d18f6d648f"
      },
      "execution_count": 11,
      "outputs": [
        {
          "output_type": "stream",
          "name": "stdout",
          "text": [
            "[[1. 2. 3. 4. 5. 6.]\n",
            " [1. 0. 1. 0. 1. 0.]]\n",
            "[[420. 441. 462. 483. 504. 525.]\n",
            " [ 36.  39.  42.  45.  48.  51.]]\n"
          ]
        }
      ]
    },
    {
      "cell_type": "markdown",
      "source": [
        "#Bài 20:\n"
      ],
      "metadata": {
        "id": "DEwHATwRWeO-"
      }
    },
    {
      "cell_type": "code",
      "source": [
        "import numpy as np\n",
        "A = np.reshape(np.arange(36.0), (6,6))\n",
        "F = np.array([[1., 1.], [2., 0.], [3., 1.], [4., 0], [5., 1], [6., 0.]])\n",
        "G = A.dot(F)\n",
        "print (F)\n",
        "print(G)"
      ],
      "metadata": {
        "colab": {
          "base_uri": "https://localhost:8080/"
        },
        "id": "TPHaD37HWgwN",
        "outputId": "6e2ee1ad-1d4e-4910-afcc-3982b7e0665b"
      },
      "execution_count": 12,
      "outputs": [
        {
          "output_type": "stream",
          "name": "stdout",
          "text": [
            "[[1. 1.]\n",
            " [2. 0.]\n",
            " [3. 1.]\n",
            " [4. 0.]\n",
            " [5. 1.]\n",
            " [6. 0.]]\n",
            "[[ 70.   6.]\n",
            " [196.  24.]\n",
            " [322.  42.]\n",
            " [448.  60.]\n",
            " [574.  78.]\n",
            " [700.  96.]]\n"
          ]
        }
      ]
    },
    {
      "cell_type": "markdown",
      "source": [
        "#Bài 21:"
      ],
      "metadata": {
        "id": "z2wbQjecW9b0"
      }
    },
    {
      "cell_type": "code",
      "source": [
        "import numpy as np\n",
        "A = np.reshape(np.arange(36.0), (6,6))\n",
        "print(np.linalg.inv(A))\n",
        "print(np.linalg.inv(np.linalg.inv(A)))\n",
        "# do det(A) = 0 nên ma trận không khả nghịch"
      ],
      "metadata": {
        "colab": {
          "base_uri": "https://localhost:8080/",
          "height": 347
        },
        "id": "ceu0kQwaXAbL",
        "outputId": "216751a7-4647-44b2-ba32-ab71c8e2fe76"
      },
      "execution_count": 13,
      "outputs": [
        {
          "output_type": "error",
          "ename": "LinAlgError",
          "evalue": "Singular matrix",
          "traceback": [
            "\u001b[0;31m---------------------------------------------------------------------------\u001b[0m",
            "\u001b[0;31mLinAlgError\u001b[0m                               Traceback (most recent call last)",
            "\u001b[0;32m<ipython-input-13-7a1e25a5b479>\u001b[0m in \u001b[0;36m<cell line: 0>\u001b[0;34m()\u001b[0m\n\u001b[1;32m      1\u001b[0m \u001b[0;32mimport\u001b[0m \u001b[0mnumpy\u001b[0m \u001b[0;32mas\u001b[0m \u001b[0mnp\u001b[0m\u001b[0;34m\u001b[0m\u001b[0;34m\u001b[0m\u001b[0m\n\u001b[1;32m      2\u001b[0m \u001b[0mA\u001b[0m \u001b[0;34m=\u001b[0m \u001b[0mnp\u001b[0m\u001b[0;34m.\u001b[0m\u001b[0mreshape\u001b[0m\u001b[0;34m(\u001b[0m\u001b[0mnp\u001b[0m\u001b[0;34m.\u001b[0m\u001b[0marange\u001b[0m\u001b[0;34m(\u001b[0m\u001b[0;36m36.0\u001b[0m\u001b[0;34m)\u001b[0m\u001b[0;34m,\u001b[0m \u001b[0;34m(\u001b[0m\u001b[0;36m6\u001b[0m\u001b[0;34m,\u001b[0m\u001b[0;36m6\u001b[0m\u001b[0;34m)\u001b[0m\u001b[0;34m)\u001b[0m\u001b[0;34m\u001b[0m\u001b[0;34m\u001b[0m\u001b[0m\n\u001b[0;32m----> 3\u001b[0;31m \u001b[0mprint\u001b[0m\u001b[0;34m(\u001b[0m\u001b[0mnp\u001b[0m\u001b[0;34m.\u001b[0m\u001b[0mlinalg\u001b[0m\u001b[0;34m.\u001b[0m\u001b[0minv\u001b[0m\u001b[0;34m(\u001b[0m\u001b[0mA\u001b[0m\u001b[0;34m)\u001b[0m\u001b[0;34m)\u001b[0m\u001b[0;34m\u001b[0m\u001b[0;34m\u001b[0m\u001b[0m\n\u001b[0m\u001b[1;32m      4\u001b[0m \u001b[0mprint\u001b[0m\u001b[0;34m(\u001b[0m\u001b[0mnp\u001b[0m\u001b[0;34m.\u001b[0m\u001b[0mlinalg\u001b[0m\u001b[0;34m.\u001b[0m\u001b[0minv\u001b[0m\u001b[0;34m(\u001b[0m\u001b[0mnp\u001b[0m\u001b[0;34m.\u001b[0m\u001b[0mlinalg\u001b[0m\u001b[0;34m.\u001b[0m\u001b[0minv\u001b[0m\u001b[0;34m(\u001b[0m\u001b[0mA\u001b[0m\u001b[0;34m)\u001b[0m\u001b[0;34m)\u001b[0m\u001b[0;34m)\u001b[0m\u001b[0;34m\u001b[0m\u001b[0;34m\u001b[0m\u001b[0m\n",
            "\u001b[0;32m/usr/local/lib/python3.11/dist-packages/numpy/linalg/_linalg.py\u001b[0m in \u001b[0;36minv\u001b[0;34m(a)\u001b[0m\n\u001b[1;32m    606\u001b[0m     with errstate(call=_raise_linalgerror_singular, invalid='call',\n\u001b[1;32m    607\u001b[0m                   over='ignore', divide='ignore', under='ignore'):\n\u001b[0;32m--> 608\u001b[0;31m         \u001b[0mainv\u001b[0m \u001b[0;34m=\u001b[0m \u001b[0m_umath_linalg\u001b[0m\u001b[0;34m.\u001b[0m\u001b[0minv\u001b[0m\u001b[0;34m(\u001b[0m\u001b[0ma\u001b[0m\u001b[0;34m,\u001b[0m \u001b[0msignature\u001b[0m\u001b[0;34m=\u001b[0m\u001b[0msignature\u001b[0m\u001b[0;34m)\u001b[0m\u001b[0;34m\u001b[0m\u001b[0;34m\u001b[0m\u001b[0m\n\u001b[0m\u001b[1;32m    609\u001b[0m     \u001b[0;32mreturn\u001b[0m \u001b[0mwrap\u001b[0m\u001b[0;34m(\u001b[0m\u001b[0mainv\u001b[0m\u001b[0;34m.\u001b[0m\u001b[0mastype\u001b[0m\u001b[0;34m(\u001b[0m\u001b[0mresult_t\u001b[0m\u001b[0;34m,\u001b[0m \u001b[0mcopy\u001b[0m\u001b[0;34m=\u001b[0m\u001b[0;32mFalse\u001b[0m\u001b[0;34m)\u001b[0m\u001b[0;34m)\u001b[0m\u001b[0;34m\u001b[0m\u001b[0;34m\u001b[0m\u001b[0m\n\u001b[1;32m    610\u001b[0m \u001b[0;34m\u001b[0m\u001b[0m\n",
            "\u001b[0;32m/usr/local/lib/python3.11/dist-packages/numpy/linalg/_linalg.py\u001b[0m in \u001b[0;36m_raise_linalgerror_singular\u001b[0;34m(err, flag)\u001b[0m\n\u001b[1;32m    102\u001b[0m \u001b[0;34m\u001b[0m\u001b[0m\n\u001b[1;32m    103\u001b[0m \u001b[0;32mdef\u001b[0m \u001b[0m_raise_linalgerror_singular\u001b[0m\u001b[0;34m(\u001b[0m\u001b[0merr\u001b[0m\u001b[0;34m,\u001b[0m \u001b[0mflag\u001b[0m\u001b[0;34m)\u001b[0m\u001b[0;34m:\u001b[0m\u001b[0;34m\u001b[0m\u001b[0;34m\u001b[0m\u001b[0m\n\u001b[0;32m--> 104\u001b[0;31m     \u001b[0;32mraise\u001b[0m \u001b[0mLinAlgError\u001b[0m\u001b[0;34m(\u001b[0m\u001b[0;34m\"Singular matrix\"\u001b[0m\u001b[0;34m)\u001b[0m\u001b[0;34m\u001b[0m\u001b[0;34m\u001b[0m\u001b[0m\n\u001b[0m\u001b[1;32m    105\u001b[0m \u001b[0;34m\u001b[0m\u001b[0m\n\u001b[1;32m    106\u001b[0m \u001b[0;32mdef\u001b[0m \u001b[0m_raise_linalgerror_nonposdef\u001b[0m\u001b[0;34m(\u001b[0m\u001b[0merr\u001b[0m\u001b[0;34m,\u001b[0m \u001b[0mflag\u001b[0m\u001b[0;34m)\u001b[0m\u001b[0;34m:\u001b[0m\u001b[0;34m\u001b[0m\u001b[0;34m\u001b[0m\u001b[0m\n",
            "\u001b[0;31mLinAlgError\u001b[0m: Singular matrix"
          ]
        }
      ]
    },
    {
      "cell_type": "markdown",
      "source": [
        "#Bài 22:\n"
      ],
      "metadata": {
        "id": "CH6wr0BkYOW0"
      }
    },
    {
      "cell_type": "code",
      "source": [
        "import numpy as np\n",
        "a = np.array([[1,1],[1,0]])\n",
        "b = np.array([1,0])\n",
        "n = 10\n",
        "for i in range(n):\n",
        "  b = a.dot(b)\n",
        "print(b)"
      ],
      "metadata": {
        "colab": {
          "base_uri": "https://localhost:8080/"
        },
        "id": "Ane9rUkbYRUZ",
        "outputId": "bba83b4a-7586-44dd-a063-0cdbe7e3b5b5"
      },
      "execution_count": 15,
      "outputs": [
        {
          "output_type": "stream",
          "name": "stdout",
          "text": [
            "[89 55]\n"
          ]
        }
      ]
    },
    {
      "cell_type": "markdown",
      "source": [
        "#Bài 23:\n"
      ],
      "metadata": {
        "id": "8wNUaCDHaQMM"
      }
    },
    {
      "cell_type": "code",
      "source": [
        "import sympy as sp\n",
        "from sympy import symbols\n",
        "x1,x2,x3,x4 = symbols('x1,x2,x3,x4')\n",
        "from sympy import solve\n",
        "pt1 = x4+610-450-x1\n",
        "pt2 = x1+400-x2-640\n",
        "pt3 = x2+600-x3\n",
        "pt4 = x3-x4-520\n",
        "nghiem = sp.solve((pt1,pt2,pt3,pt4))\n",
        "print(nghiem)"
      ],
      "metadata": {
        "colab": {
          "base_uri": "https://localhost:8080/"
        },
        "id": "Uq8oMZdZaSzn",
        "outputId": "eea5a782-920f-4024-bd88-1ba1cbc62786"
      },
      "execution_count": 16,
      "outputs": [
        {
          "output_type": "stream",
          "name": "stdout",
          "text": [
            "{x1: x4 + 160, x2: x4 - 80, x3: x4 + 520}\n"
          ]
        }
      ]
    },
    {
      "cell_type": "markdown",
      "source": [
        "#Bài 24:"
      ],
      "metadata": {
        "id": "CCFY_SNLa_mP"
      }
    },
    {
      "cell_type": "code",
      "source": [
        "import numpy as np\n",
        "A = np.matrix([[-1,0,0,1],[1,-1,0,0],[0,1,-1,0],[0,0,1,-1]])\n",
        "# Tính ma trận nghịch đảo:\n",
        "A_nghichdao = np.linalg.inv(A)\n",
        "print(A_nghichdao)\n",
        "# Do det(A) = 0 nên ma trận A không khả nghịch"
      ],
      "metadata": {
        "colab": {
          "base_uri": "https://localhost:8080/",
          "height": 347
        },
        "id": "QpiwN6_fbBsD",
        "outputId": "8e36ecaf-1c55-422c-b821-ed44cd99d305"
      },
      "execution_count": 17,
      "outputs": [
        {
          "output_type": "error",
          "ename": "LinAlgError",
          "evalue": "Singular matrix",
          "traceback": [
            "\u001b[0;31m---------------------------------------------------------------------------\u001b[0m",
            "\u001b[0;31mLinAlgError\u001b[0m                               Traceback (most recent call last)",
            "\u001b[0;32m<ipython-input-17-48e0c6002d31>\u001b[0m in \u001b[0;36m<cell line: 0>\u001b[0;34m()\u001b[0m\n\u001b[1;32m      2\u001b[0m \u001b[0mA\u001b[0m \u001b[0;34m=\u001b[0m \u001b[0mnp\u001b[0m\u001b[0;34m.\u001b[0m\u001b[0mmatrix\u001b[0m\u001b[0;34m(\u001b[0m\u001b[0;34m[\u001b[0m\u001b[0;34m[\u001b[0m\u001b[0;34m-\u001b[0m\u001b[0;36m1\u001b[0m\u001b[0;34m,\u001b[0m\u001b[0;36m0\u001b[0m\u001b[0;34m,\u001b[0m\u001b[0;36m0\u001b[0m\u001b[0;34m,\u001b[0m\u001b[0;36m1\u001b[0m\u001b[0;34m]\u001b[0m\u001b[0;34m,\u001b[0m\u001b[0;34m[\u001b[0m\u001b[0;36m1\u001b[0m\u001b[0;34m,\u001b[0m\u001b[0;34m-\u001b[0m\u001b[0;36m1\u001b[0m\u001b[0;34m,\u001b[0m\u001b[0;36m0\u001b[0m\u001b[0;34m,\u001b[0m\u001b[0;36m0\u001b[0m\u001b[0;34m]\u001b[0m\u001b[0;34m,\u001b[0m\u001b[0;34m[\u001b[0m\u001b[0;36m0\u001b[0m\u001b[0;34m,\u001b[0m\u001b[0;36m1\u001b[0m\u001b[0;34m,\u001b[0m\u001b[0;34m-\u001b[0m\u001b[0;36m1\u001b[0m\u001b[0;34m,\u001b[0m\u001b[0;36m0\u001b[0m\u001b[0;34m]\u001b[0m\u001b[0;34m,\u001b[0m\u001b[0;34m[\u001b[0m\u001b[0;36m0\u001b[0m\u001b[0;34m,\u001b[0m\u001b[0;36m0\u001b[0m\u001b[0;34m,\u001b[0m\u001b[0;36m1\u001b[0m\u001b[0;34m,\u001b[0m\u001b[0;34m-\u001b[0m\u001b[0;36m1\u001b[0m\u001b[0;34m]\u001b[0m\u001b[0;34m]\u001b[0m\u001b[0;34m)\u001b[0m\u001b[0;34m\u001b[0m\u001b[0;34m\u001b[0m\u001b[0m\n\u001b[1;32m      3\u001b[0m \u001b[0;31m# Tính ma trận nghịch đảo:\u001b[0m\u001b[0;34m\u001b[0m\u001b[0;34m\u001b[0m\u001b[0m\n\u001b[0;32m----> 4\u001b[0;31m \u001b[0mA_nghichdao\u001b[0m \u001b[0;34m=\u001b[0m \u001b[0mnp\u001b[0m\u001b[0;34m.\u001b[0m\u001b[0mlinalg\u001b[0m\u001b[0;34m.\u001b[0m\u001b[0minv\u001b[0m\u001b[0;34m(\u001b[0m\u001b[0mA\u001b[0m\u001b[0;34m)\u001b[0m\u001b[0;34m\u001b[0m\u001b[0;34m\u001b[0m\u001b[0m\n\u001b[0m\u001b[1;32m      5\u001b[0m \u001b[0mprint\u001b[0m\u001b[0;34m(\u001b[0m\u001b[0mA_nghichdao\u001b[0m\u001b[0;34m)\u001b[0m\u001b[0;34m\u001b[0m\u001b[0;34m\u001b[0m\u001b[0m\n",
            "\u001b[0;32m/usr/local/lib/python3.11/dist-packages/numpy/linalg/_linalg.py\u001b[0m in \u001b[0;36minv\u001b[0;34m(a)\u001b[0m\n\u001b[1;32m    606\u001b[0m     with errstate(call=_raise_linalgerror_singular, invalid='call',\n\u001b[1;32m    607\u001b[0m                   over='ignore', divide='ignore', under='ignore'):\n\u001b[0;32m--> 608\u001b[0;31m         \u001b[0mainv\u001b[0m \u001b[0;34m=\u001b[0m \u001b[0m_umath_linalg\u001b[0m\u001b[0;34m.\u001b[0m\u001b[0minv\u001b[0m\u001b[0;34m(\u001b[0m\u001b[0ma\u001b[0m\u001b[0;34m,\u001b[0m \u001b[0msignature\u001b[0m\u001b[0;34m=\u001b[0m\u001b[0msignature\u001b[0m\u001b[0;34m)\u001b[0m\u001b[0;34m\u001b[0m\u001b[0;34m\u001b[0m\u001b[0m\n\u001b[0m\u001b[1;32m    609\u001b[0m     \u001b[0;32mreturn\u001b[0m \u001b[0mwrap\u001b[0m\u001b[0;34m(\u001b[0m\u001b[0mainv\u001b[0m\u001b[0;34m.\u001b[0m\u001b[0mastype\u001b[0m\u001b[0;34m(\u001b[0m\u001b[0mresult_t\u001b[0m\u001b[0;34m,\u001b[0m \u001b[0mcopy\u001b[0m\u001b[0;34m=\u001b[0m\u001b[0;32mFalse\u001b[0m\u001b[0;34m)\u001b[0m\u001b[0;34m)\u001b[0m\u001b[0;34m\u001b[0m\u001b[0;34m\u001b[0m\u001b[0m\n\u001b[1;32m    610\u001b[0m \u001b[0;34m\u001b[0m\u001b[0m\n",
            "\u001b[0;32m/usr/local/lib/python3.11/dist-packages/numpy/linalg/_linalg.py\u001b[0m in \u001b[0;36m_raise_linalgerror_singular\u001b[0;34m(err, flag)\u001b[0m\n\u001b[1;32m    102\u001b[0m \u001b[0;34m\u001b[0m\u001b[0m\n\u001b[1;32m    103\u001b[0m \u001b[0;32mdef\u001b[0m \u001b[0m_raise_linalgerror_singular\u001b[0m\u001b[0;34m(\u001b[0m\u001b[0merr\u001b[0m\u001b[0;34m,\u001b[0m \u001b[0mflag\u001b[0m\u001b[0;34m)\u001b[0m\u001b[0;34m:\u001b[0m\u001b[0;34m\u001b[0m\u001b[0;34m\u001b[0m\u001b[0m\n\u001b[0;32m--> 104\u001b[0;31m     \u001b[0;32mraise\u001b[0m \u001b[0mLinAlgError\u001b[0m\u001b[0;34m(\u001b[0m\u001b[0;34m\"Singular matrix\"\u001b[0m\u001b[0;34m)\u001b[0m\u001b[0;34m\u001b[0m\u001b[0;34m\u001b[0m\u001b[0m\n\u001b[0m\u001b[1;32m    105\u001b[0m \u001b[0;34m\u001b[0m\u001b[0m\n\u001b[1;32m    106\u001b[0m \u001b[0;32mdef\u001b[0m \u001b[0m_raise_linalgerror_nonposdef\u001b[0m\u001b[0;34m(\u001b[0m\u001b[0merr\u001b[0m\u001b[0;34m,\u001b[0m \u001b[0mflag\u001b[0m\u001b[0;34m)\u001b[0m\u001b[0;34m:\u001b[0m\u001b[0;34m\u001b[0m\u001b[0;34m\u001b[0m\u001b[0m\n",
            "\u001b[0;31mLinAlgError\u001b[0m: Singular matrix"
          ]
        }
      ]
    },
    {
      "cell_type": "markdown",
      "source": [
        "# BÀI TẬP VỀ NHÀ"
      ],
      "metadata": {
        "id": "GMtmvHuGbmwl"
      }
    },
    {
      "cell_type": "markdown",
      "source": [
        "#Bài 1:\n"
      ],
      "metadata": {
        "id": "Cp48UHvmcIko"
      }
    },
    {
      "cell_type": "code",
      "source": [
        "import numpy as np\n",
        "# Vấn đề 1:\n",
        "A1 = np.array([[1, -1], [2, 3]])\n",
        "b1 = np.array([-2, 6])\n",
        "\n",
        "x1 = np.linalg.solve(A1, b1)\n",
        "print(\"Vấn đề 1:\", x1)\n",
        "#Vấn đề 2:\n",
        "A2 = np.array([[1, -1, 0], [2, -1, -1], [1, 1, 1]])\n",
        "b2 = np.array([2, 3, 6])\n",
        "\n",
        "x2 = np.linalg.solve(A2, b2)\n",
        "print(\"Vấn đề 2:\", x2)\n",
        "#Vấn đề 3:\n",
        "A3 = np.array([[1, 1, 1], [4, 2, 1], [9, 3, 1]])\n",
        "b3 = np.array([4, 3, 4])\n",
        "\n",
        "x3 = np.linalg.solve(A3, b3)\n",
        "print(\"Vấn đề 3 (a, b, c):\", x3)\n",
        "#Vấn đề 4:\n",
        "A4 = np.array([[1, 0, 1], [1, 1, -2], [-2, 2, 1]])\n",
        "b4 = np.array([1, -3, 0])\n",
        "\n",
        "x4 = np.linalg.solve(A4, b4)\n",
        "print(\"Vấn đề 4 (a, b, c):\", x4)\n"
      ],
      "metadata": {
        "colab": {
          "base_uri": "https://localhost:8080/"
        },
        "id": "m4KpW6p-cKkP",
        "outputId": "93f1709a-af5f-4aa3-c0ae-cd1c3ce8527e"
      },
      "execution_count": 19,
      "outputs": [
        {
          "output_type": "stream",
          "name": "stdout",
          "text": [
            "Vấn đề 1: [0. 2.]\n",
            "Vấn đề 2: [3. 1. 2.]\n",
            "Vấn đề 3 (a, b, c): [ 1. -4.  7.]\n",
            "Vấn đề 4 (a, b, c): [-0.11111111 -0.66666667  1.11111111]\n"
          ]
        }
      ]
    },
    {
      "cell_type": "markdown",
      "source": [
        "#Bài 2:\n"
      ],
      "metadata": {
        "id": "cYE8Wl6BdysG"
      }
    },
    {
      "cell_type": "code",
      "source": [
        "from sympy import symbols, Eq, solve\n",
        "# problem 1:\n",
        "x, y = symbols('x y')\n",
        "\n",
        "eq1 = Eq(x - y, -2)\n",
        "eq2 = Eq(2*x + 3*y, 6)\n",
        "\n",
        "sol1 = solve((eq1, eq2), (x, y))\n",
        "print(\"Problem 1 Solution:\", sol1)\n",
        "#problem 2:\n",
        "x, y, z = symbols('x y z')\n",
        "\n",
        "eq1 = Eq(x - y, 2)\n",
        "eq2 = Eq(2*x - y - z, 3)\n",
        "eq3 = Eq(x + y + z, 6)\n",
        "\n",
        "sol2 = solve((eq1, eq2, eq3), (x, y, z))\n",
        "print(\"Problem 2 Solution:\", sol2)\n",
        "#problem 3:\n",
        "a, b, c = symbols('a b c')\n",
        "\n",
        "eq1 = Eq(a + b + c, 4)\n",
        "eq2 = Eq(4*a + 2*b + c, 3)\n",
        "eq3 = Eq(9*a + 3*b + c, 4)\n",
        "\n",
        "sol3 = solve((eq1, eq2, eq3), (a, b, c))\n",
        "print(\"Problem 3 Solution:\", sol3)\n",
        "#problem 4:\n",
        "a, b, c = symbols('a b c')\n",
        "\n",
        "eq1 = Eq(a + c, 1)\n",
        "eq2 = Eq(a + b - 2*c, -3)\n",
        "eq3 = Eq(-2*a + 2*b + c, 0)\n",
        "\n",
        "sol4 = solve((eq1, eq2, eq3), (a, b, c))\n",
        "print(\"Problem 4 Solution:\", sol4)\n"
      ],
      "metadata": {
        "colab": {
          "base_uri": "https://localhost:8080/"
        },
        "id": "As9YKK2Dd2Ng",
        "outputId": "d8195b44-0a47-44a2-dfb6-1a43a35dee2f"
      },
      "execution_count": 20,
      "outputs": [
        {
          "output_type": "stream",
          "name": "stdout",
          "text": [
            "Problem 1 Solution: {x: 0, y: 2}\n",
            "Problem 2 Solution: {x: 3, y: 1, z: 2}\n",
            "Problem 3 Solution: {a: 1, b: -4, c: 7}\n",
            "Problem 4 Solution: {a: -1/9, b: -2/3, c: 10/9}\n"
          ]
        }
      ]
    },
    {
      "cell_type": "markdown",
      "source": [
        "#Bài 3:"
      ],
      "metadata": {
        "id": "fAZDziShekdZ"
      }
    },
    {
      "cell_type": "code",
      "source": [
        "from sympy import Matrix, pprint\n",
        "\n",
        "def fibonacci_matrix_power(k):\n",
        "    F = Matrix([[1, 1], [1, 0]])\n",
        "    Fk = F**k\n",
        "    return Fk\n",
        "\n",
        "# Tính F^k và kiểm tra\n",
        "for k in range(1, 11):\n",
        "    Fk = fibonacci_matrix_power(k)\n",
        "    print(f\"F^{k} =\")\n",
        "    pprint(Fk)\n",
        "    print()\n"
      ],
      "metadata": {
        "colab": {
          "base_uri": "https://localhost:8080/"
        },
        "id": "A1BI29YueltC",
        "outputId": "928a3af3-4666-443e-9ee9-6ea61e44dd49"
      },
      "execution_count": 21,
      "outputs": [
        {
          "output_type": "stream",
          "name": "stdout",
          "text": [
            "F^1 =\n",
            "⎡1  1⎤\n",
            "⎢    ⎥\n",
            "⎣1  0⎦\n",
            "\n",
            "F^2 =\n",
            "⎡2  1⎤\n",
            "⎢    ⎥\n",
            "⎣1  1⎦\n",
            "\n",
            "F^3 =\n",
            "⎡3  2⎤\n",
            "⎢    ⎥\n",
            "⎣2  1⎦\n",
            "\n",
            "F^4 =\n",
            "⎡5  3⎤\n",
            "⎢    ⎥\n",
            "⎣3  2⎦\n",
            "\n",
            "F^5 =\n",
            "⎡8  5⎤\n",
            "⎢    ⎥\n",
            "⎣5  3⎦\n",
            "\n",
            "F^6 =\n",
            "⎡13  8⎤\n",
            "⎢     ⎥\n",
            "⎣8   5⎦\n",
            "\n",
            "F^7 =\n",
            "⎡21  13⎤\n",
            "⎢      ⎥\n",
            "⎣13  8 ⎦\n",
            "\n",
            "F^8 =\n",
            "⎡34  21⎤\n",
            "⎢      ⎥\n",
            "⎣21  13⎦\n",
            "\n",
            "F^9 =\n",
            "⎡55  34⎤\n",
            "⎢      ⎥\n",
            "⎣34  21⎦\n",
            "\n",
            "F^10 =\n",
            "⎡89  55⎤\n",
            "⎢      ⎥\n",
            "⎣55  34⎦\n",
            "\n"
          ]
        }
      ]
    }
  ]
}