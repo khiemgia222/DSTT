{
  "nbformat": 4,
  "nbformat_minor": 0,
  "metadata": {
    "colab": {
      "provenance": []
    },
    "kernelspec": {
      "name": "python3",
      "display_name": "Python 3"
    },
    "language_info": {
      "name": "python"
    }
  },
  "cells": [
    {
      "cell_type": "markdown",
      "source": [
        "# BÀI TẬP TRÊN LỚP"
      ],
      "metadata": {
        "id": "mJ0GiaY7Xx6m"
      }
    },
    {
      "cell_type": "markdown",
      "source": [
        "Bài 1.1\n"
      ],
      "metadata": {
        "id": "Mh38OHEbX3QW"
      }
    },
    {
      "cell_type": "code",
      "source": [
        "import numpy as np\n",
        "n = 4\n",
        "X = np.array(range(1,n+1))\n",
        "sigma = np.array([4,3,2,1])\n",
        "def sgn_by_def(sigma):\n",
        "  ketqua = 1.0\n",
        "  for i in range(len(X)-1):\n",
        "      for j in range(i+1,len(X)):\n",
        "        ketqua = ketqua * ((X[i]-X[j])/ (sigma[i]-sigma[j]))\n",
        "      return int(ketqua)\n",
        "sigma = np.array([2,1,3,4])\n",
        "sgn_by_def(sigma)\n"
      ],
      "metadata": {
        "colab": {
          "base_uri": "https://localhost:8080/"
        },
        "id": "vL_-_C4XX6vG",
        "outputId": "b0df4c9e-3e44-450a-823e-7ad049ad25e1"
      },
      "execution_count": 1,
      "outputs": [
        {
          "output_type": "execute_result",
          "data": {
            "text/plain": [
              "-3"
            ]
          },
          "metadata": {},
          "execution_count": 1
        }
      ]
    },
    {
      "cell_type": "markdown",
      "source": [
        "Bài 1.2\n"
      ],
      "metadata": {
        "id": "KSYRIPFSZeJA"
      }
    },
    {
      "cell_type": "code",
      "source": [
        "import numpy as np\n",
        "n = 4\n",
        "X = np.array(range(1,n+1))\n",
        "sigma = np.array([4,3,2,1])\n",
        "def sgn_by_def(sigma):\n",
        "  ketqua = 1.0\n",
        "  for i in range(len(X)-1):\n",
        "      for j in range(i+1,len(X)):\n",
        "        ketqua = ketqua * ((X[i]-X[j])/ (sigma[i]-sigma[j]))\n",
        "      return int(ketqua)\n",
        "sigma = np.array([1,2,3,4])\n",
        "sgn_by_def(sigma)"
      ],
      "metadata": {
        "colab": {
          "base_uri": "https://localhost:8080/"
        },
        "id": "hbPz0s5-ZgFA",
        "outputId": "d50d90ea-0696-46c8-8ec5-9e7d4069bda6"
      },
      "execution_count": 2,
      "outputs": [
        {
          "output_type": "execute_result",
          "data": {
            "text/plain": [
              "1"
            ]
          },
          "metadata": {},
          "execution_count": 2
        }
      ]
    },
    {
      "cell_type": "markdown",
      "source": [
        "Bài 1.3"
      ],
      "metadata": {
        "id": "l0TR015PZr0A"
      }
    },
    {
      "cell_type": "code",
      "source": [
        "import numpy as np\n",
        "n = 4\n",
        "X = np.array(range(1,n+1))\n",
        "sigma = np.array([4,3,2,1])\n",
        "def sgn_by_def(sigma):\n",
        "  ketqua = 1.0\n",
        "  for i in range(len(X)-1):\n",
        "      for j in range(i+1,len(X)):\n",
        "        ketqua = ketqua * ((X[i]-X[j])/ (sigma[i]-sigma[j]))\n",
        "      return int(ketqua)\n",
        "sigma = np.array([4,3,2,1])\n",
        "sgn_by_def(sigma)"
      ],
      "metadata": {
        "colab": {
          "base_uri": "https://localhost:8080/"
        },
        "id": "YqiBA-OCZtb2",
        "outputId": "6a36d99d-f6b3-49dc-c055-9dda5ca7a8fe"
      },
      "execution_count": 3,
      "outputs": [
        {
          "output_type": "execute_result",
          "data": {
            "text/plain": [
              "-1"
            ]
          },
          "metadata": {},
          "execution_count": 3
        }
      ]
    },
    {
      "cell_type": "markdown",
      "source": [
        "Bài 2.1\n"
      ],
      "metadata": {
        "id": "E-7ke_6YZ_VA"
      }
    },
    {
      "cell_type": "code",
      "source": [
        "from itertools import permutations\n",
        "n = 3\n",
        "X = []\n",
        "for i in range (1, n+1):\n",
        "  X.append(i)\n",
        "Sn = list(permutations(X)) #  tạo hoán vị của tập X\n",
        "print (Sn)\n",
        "det = 0\n",
        "def sgn_by_def(sigma):\n",
        "    n = len(sigma)\n",
        "    count = 0\n",
        "    for i in range(n):\n",
        "        for j in range(i+1, n):\n",
        "            if sigma[i] > sigma[j]:\n",
        "                count += 1\n",
        "    return -1 if count % 2 == 1 else 1\n"
      ],
      "metadata": {
        "colab": {
          "base_uri": "https://localhost:8080/"
        },
        "id": "sZ34GZbmaFDj",
        "outputId": "8e9dc206-5cbe-4af8-986a-1144be0932a0"
      },
      "execution_count": 6,
      "outputs": [
        {
          "output_type": "stream",
          "name": "stdout",
          "text": [
            "[(1, 2, 3), (1, 3, 2), (2, 1, 3), (2, 3, 1), (3, 1, 2), (3, 2, 1)]\n"
          ]
        }
      ]
    },
    {
      "cell_type": "markdown",
      "source": [
        "Bài 2.2"
      ],
      "metadata": {
        "id": "Bm-IQRo-aNz8"
      }
    },
    {
      "cell_type": "code",
      "source": [
        "import numpy as np\n",
        "def sgn_by_def(sigma):\n",
        "    n = len(sigma)\n",
        "    count = 0\n",
        "    for i in range(n):\n",
        "        for j in range(i+1, n):\n",
        "            if sigma[i] > sigma[j]:\n",
        "                count += 1\n",
        "    return -1 if count % 2 == 1 else 1\n",
        "def phatsinh_dinhthuc(n):\n",
        "        X = []\n",
        "        for i in range(1, n+1):\n",
        "            X.append(i)\n",
        "\n",
        "        Sn = list(permutations(X))    # Tạo tập các hoán vị\n",
        "        dinhthuc = \"\"\n",
        "\n",
        "        for sn in Sn:\n",
        "            sigma = np.array([1])\n",
        "            sigma.resize([n])\n",
        "            product = \"\"\n",
        "\n",
        "            for i in range(1, n+1):\n",
        "                sigma[sn.index(i)] = i\n",
        "                product = product + \"a\" + str(i) + str(sn.index(i)+1)\n",
        "\n",
        "            dau = sgn_by_def(sigma)   # Hàm tính dấu của hoán vị sigma\n",
        "\n",
        "            if (dau != 1):\n",
        "                product = \" - \" + product\n",
        "            else:\n",
        "                product = \" + \" + product\n",
        "\n",
        "            dinhthuc = dinhthuc + product\n",
        "\n",
        "        return dinhthuc\n",
        "kq = phatsinh_dinhthuc(2)\n",
        "ketqua = phatsinh_dinhthuc(3)\n",
        "print(kq)\n",
        "print(ketqua)"
      ],
      "metadata": {
        "colab": {
          "base_uri": "https://localhost:8080/"
        },
        "id": "lY6yf-LbaPHv",
        "outputId": "3f68d38b-a476-4f82-b0cf-9f5545eefcce"
      },
      "execution_count": 8,
      "outputs": [
        {
          "output_type": "stream",
          "name": "stdout",
          "text": [
            " + a11a22 - a12a21\n",
            " + a11a22a33 - a11a23a32 - a12a21a33 + a13a21a32 + a12a23a31 - a13a22a31\n"
          ]
        }
      ]
    },
    {
      "cell_type": "markdown",
      "source": [
        "Bài 2.3"
      ],
      "metadata": {
        "id": "k2AugMwZbhrM"
      }
    },
    {
      "cell_type": "code",
      "source": [
        "import numpy as np\n",
        "def tinhtoan_dinhthuc(A):\n",
        "    X = []\n",
        "    import math  # dùng để lấy căn bậc hai\n",
        "\n",
        "    n = int(math.sqrt(A.size))  # kích thước ma trận vuông: sqrt(số phần tử)\n",
        "\n",
        "    for i in range(1, n+1):\n",
        "        X.append(i)\n",
        "\n",
        "    Sn = list(permutations(X))   # tạo tập các hoán vị\n",
        "    dinhthuc = 0                 # khởi tạo giá trị định thức\n",
        "\n",
        "    for sn in Sn:\n",
        "        sigma = np.array([1])\n",
        "        sigma.resize([n])\n",
        "        product = 1              # khởi tạo tích các phần tử\n",
        "\n",
        "        for i in range(1, n+1):\n",
        "            sigma[sn.index(i)] = i\n",
        "            product = product * A[i-1][sn.index(i)]  # chỉ số i-1 vì Python đếm từ 0\n",
        "\n",
        "        dau = sgn_by_def(sigma)   # tính dấu của hoán vị\n",
        "\n",
        "        if dau != 1:\n",
        "            product = product * (-1)\n",
        "\n",
        "        dinhthuc = dinhthuc + product\n",
        "\n",
        "    return dinhthuc\n",
        "matrann = np.array([\n",
        "    [3, 5, -8],\n",
        "    [4, 12, -1],\n",
        "    [2, 5, 3]\n",
        "])\n",
        "kq = tinhtoan_dinhthuc(matrann)\n",
        "print(kq)"
      ],
      "metadata": {
        "colab": {
          "base_uri": "https://localhost:8080/"
        },
        "id": "N5dtnNxwbjGk",
        "outputId": "53617d67-0e85-40a4-acf8-0d0a3835206a"
      },
      "execution_count": 10,
      "outputs": [
        {
          "output_type": "stream",
          "name": "stdout",
          "text": [
            "85\n"
          ]
        }
      ]
    },
    {
      "cell_type": "markdown",
      "source": [
        "Bài 3"
      ],
      "metadata": {
        "id": "FQSGKkV-boNn"
      }
    },
    {
      "cell_type": "code",
      "source": [
        "import numpy as np\n",
        "A = np.array([[4, -2],[3, -5]]) # khai báo ma trận A\n",
        "A1 = np.array([[10, -2],[11, -5]])\n",
        "A2 = np.array([[4, 10],[3, 11]])\n",
        "from scipy import linalg # lưu ý: hàm tính định thức của ma trận là scipy.linalg.det(A)\n",
        "detA = linalg.det(A) # tính định thức cho ma trận A\n",
        "detA1 = linalg.det(A1)\n",
        "11\n",
        "detA2 = linalg.det(A2)\n",
        "print (detA, detA1, detA2)\n",
        "\n",
        "if (detA != 0):\n",
        " x1 = detA1 / detA\n",
        " x2 = detA2 / detA\n",
        " print (\"Hai nghiệm của phương trình là: \", x1, x2)"
      ],
      "metadata": {
        "colab": {
          "base_uri": "https://localhost:8080/"
        },
        "id": "ZBthxIA4bpW2",
        "outputId": "f945f971-b9c7-4cc1-bd3d-2f38a17dde46"
      },
      "execution_count": 5,
      "outputs": [
        {
          "output_type": "stream",
          "name": "stdout",
          "text": [
            "-14.0 -28.0 14.000000000000004\n",
            "Hai nghiệm của phương trình là:  2.0 -1.0000000000000002\n"
          ]
        }
      ]
    },
    {
      "cell_type": "markdown",
      "source": [
        "Bài 3.1 Tính det(A)"
      ],
      "metadata": {
        "id": "HN7xmb8Phtv4"
      }
    },
    {
      "cell_type": "code",
      "source": [
        "import numpy as np\n",
        "def tinhtoan_dinhthuc(A):\n",
        "    X = []\n",
        "    import math\n",
        "\n",
        "    n = int(math.sqrt(A.size))\n",
        "\n",
        "    for i in range(1, n+1):\n",
        "        X.append(i)\n",
        "\n",
        "    Sn = list(permutations(X))\n",
        "    dinhthuc = 0\n",
        "\n",
        "    for sn in Sn:\n",
        "        sigma = np.array([1])\n",
        "        sigma.resize([n])\n",
        "        product = 1\n",
        "\n",
        "        for i in range(1, n+1):\n",
        "            sigma[sn.index(i)] = i\n",
        "            product = product * A[i-1][sn.index(i)]\n",
        "\n",
        "        dau = sgn_by_def(sigma)\n",
        "\n",
        "        if dau != 1:\n",
        "            product = product * (-1)\n",
        "\n",
        "        dinhthuc = dinhthuc + product\n",
        "\n",
        "    return dinhthuc\n",
        "A = np.array([[4, -2],[3, -5]])\n",
        "\n",
        "kq = tinhtoan_dinhthuc(A)\n",
        "print(kq)"
      ],
      "metadata": {
        "colab": {
          "base_uri": "https://localhost:8080/"
        },
        "id": "4jTmz2Ifhyed",
        "outputId": "ed08e336-400e-4968-cb23-5675cdad5acf"
      },
      "execution_count": 12,
      "outputs": [
        {
          "output_type": "stream",
          "name": "stdout",
          "text": [
            "-14\n"
          ]
        }
      ]
    },
    {
      "cell_type": "markdown",
      "source": [
        "Bài 3.2 tính det(A1)"
      ],
      "metadata": {
        "id": "Gk8czxJ6iO9p"
      }
    },
    {
      "cell_type": "code",
      "source": [
        "import numpy as np\n",
        "def tinhtoan_dinhthuc(A):\n",
        "    X = []\n",
        "    import math\n",
        "\n",
        "    n = int(math.sqrt(A.size))\n",
        "\n",
        "    for i in range(1, n+1):\n",
        "        X.append(i)\n",
        "\n",
        "    Sn = list(permutations(X))\n",
        "    dinhthuc = 0\n",
        "\n",
        "    for sn in Sn:\n",
        "        sigma = np.array([1])\n",
        "        sigma.resize([n])\n",
        "        product = 1\n",
        "\n",
        "        for i in range(1, n+1):\n",
        "            sigma[sn.index(i)] = i\n",
        "            product = product * A[i-1][sn.index(i)]\n",
        "\n",
        "        dau = sgn_by_def(sigma)\n",
        "\n",
        "        if dau != 1:\n",
        "            product = product * (-1)\n",
        "\n",
        "        dinhthuc = dinhthuc + product\n",
        "\n",
        "    return dinhthuc\n",
        "A1 = np.array([[10, -2],[11, -5]])\n",
        "\n",
        "kq = tinhtoan_dinhthuc(A1)\n",
        "print(kq)"
      ],
      "metadata": {
        "colab": {
          "base_uri": "https://localhost:8080/"
        },
        "id": "d7iMrSRPiSUe",
        "outputId": "d5cfe3c5-802f-4771-8438-0eae169478f9"
      },
      "execution_count": 13,
      "outputs": [
        {
          "output_type": "stream",
          "name": "stdout",
          "text": [
            "-28\n"
          ]
        }
      ]
    },
    {
      "cell_type": "markdown",
      "source": [
        "Bài 3.3 tính det(A2)\n"
      ],
      "metadata": {
        "id": "xMLz0m_XibRf"
      }
    },
    {
      "cell_type": "code",
      "source": [
        "import numpy as np\n",
        "def tinhtoan_dinhthuc(A):\n",
        "    X = []\n",
        "    import math\n",
        "\n",
        "    n = int(math.sqrt(A.size))\n",
        "\n",
        "    for i in range(1, n+1):\n",
        "        X.append(i)\n",
        "\n",
        "    Sn = list(permutations(X))\n",
        "    dinhthuc = 0\n",
        "\n",
        "    for sn in Sn:\n",
        "        sigma = np.array([1])\n",
        "        sigma.resize([n])\n",
        "        product = 1\n",
        "\n",
        "        for i in range(1, n+1):\n",
        "            sigma[sn.index(i)] = i\n",
        "            product = product * A[i-1][sn.index(i)]\n",
        "\n",
        "        dau = sgn_by_def(sigma)\n",
        "\n",
        "        if dau != 1:\n",
        "            product = product * (-1)\n",
        "\n",
        "        dinhthuc = dinhthuc + product\n",
        "\n",
        "    return dinhthuc\n",
        "A2 = np.array([[4, 10],[3, 11]])\n",
        "\n",
        "kq = tinhtoan_dinhthuc(A2)\n",
        "print(kq)"
      ],
      "metadata": {
        "colab": {
          "base_uri": "https://localhost:8080/"
        },
        "id": "NPvcKCt0ifvy",
        "outputId": "a87b23bd-ecf0-4bac-92b0-0218dd82951f"
      },
      "execution_count": 14,
      "outputs": [
        {
          "output_type": "stream",
          "name": "stdout",
          "text": [
            "14\n"
          ]
        }
      ]
    },
    {
      "cell_type": "markdown",
      "source": [
        "Bài 5\n"
      ],
      "metadata": {
        "id": "J73-18QWks6U"
      }
    },
    {
      "cell_type": "code",
      "source": [
        "import sympy as sp\n",
        "TG = sp.Matrix([[1, 0, 1],[4, 3, 1], [2, 2, 1]])\n",
        "print('kết quả diện tích tam giác là:',1/2*TG.det())"
      ],
      "metadata": {
        "colab": {
          "base_uri": "https://localhost:8080/"
        },
        "id": "rtw4Y3N_kul4",
        "outputId": "fa18fd41-68e1-48ac-be1c-b15a7ce1a7dc"
      },
      "execution_count": 17,
      "outputs": [
        {
          "output_type": "stream",
          "name": "stdout",
          "text": [
            "kết quả diện tích tam giác là: 1.50000000000000\n"
          ]
        }
      ]
    },
    {
      "cell_type": "markdown",
      "source": [
        "Bài 5.1\n"
      ],
      "metadata": {
        "id": "CdTXcBvRlO8f"
      }
    },
    {
      "cell_type": "code",
      "source": [
        "import sympy as sp\n",
        "M = sp.Matrix([[0, 4, 1, 1], [4, 0, 0, 1], [3, 5, 2, 1], [2, 2,\n",
        "5, 1]])\n",
        "print(M.det())\n",
        "print('thể tích tứ diện là:',1/6*M.det())"
      ],
      "metadata": {
        "colab": {
          "base_uri": "https://localhost:8080/"
        },
        "id": "V52-EwXelQvP",
        "outputId": "84c37317-0e95-43a4-ed22-30975b4f28c2"
      },
      "execution_count": 20,
      "outputs": [
        {
          "output_type": "stream",
          "name": "stdout",
          "text": [
            "-72\n",
            "thể tích tứ diện là: -12.0000000000000\n"
          ]
        }
      ]
    },
    {
      "cell_type": "markdown",
      "source": [
        "Bài 5.2\n"
      ],
      "metadata": {
        "id": "b9QQzlcEmKqf"
      }
    },
    {
      "cell_type": "code",
      "source": [
        "from sympy import * # lúc này ta sử dụng trực tiếp thư viện\n",
        "x, y, z = symbols('x y z')\n",
        "\n",
        "MP = Matrix([[x, y, z, 1],[-1, 3, 2, 1],[0, 1, 0, 1],[-2, 0,\n",
        "1, 1]])\n",
        "\n",
        "MP.det()"
      ],
      "metadata": {
        "colab": {
          "base_uri": "https://localhost:8080/",
          "height": 39
        },
        "id": "Rzpu1WX7mMin",
        "outputId": "16c373ce-6f75-4d90-9665-b0394cf26224"
      },
      "execution_count": 26,
      "outputs": [
        {
          "output_type": "execute_result",
          "data": {
            "text/plain": [
              "-4*x + 3*y - 5*z - 3"
            ],
            "text/latex": "$\\displaystyle - 4 x + 3 y - 5 z - 3$"
          },
          "metadata": {},
          "execution_count": 26
        }
      ]
    },
    {
      "cell_type": "markdown",
      "source": [
        "# BÀI TẬP VỀ NHÀ"
      ],
      "metadata": {
        "id": "rFRIlC26muWX"
      }
    },
    {
      "cell_type": "markdown",
      "source": [
        "Bài 1"
      ],
      "metadata": {
        "id": "aUAL6HtCm-mM"
      }
    },
    {
      "cell_type": "code",
      "source": [
        "import numpy as np\n",
        "\n",
        "# Hàm tính định thức con bằng cách loại bỏ hàng i và cột j\n",
        "def minor(matrix, i, j):\n",
        "    sub_matrix = np.delete(np.delete(matrix, i, axis=0), j, axis=1)\n",
        "    return round(np.linalg.det(sub_matrix))  # Làm tròn định thức nhỏ\n",
        "\n",
        "# Hàm tính ma trận hệ số kép (cofactor matrix)\n",
        "def cofactor_matrix(A):\n",
        "    n = A.shape[0]\n",
        "    cof = np.zeros((n, n))\n",
        "    for i in range(n):\n",
        "        for j in range(n):\n",
        "            cof[i, j] = ((-1) ** (i + j)) * minor(A, i, j)\n",
        "    return cof\n",
        "\n",
        "# Hàm tính ma trận liên hợp (adjoint matrix)\n",
        "def adjoint_matrix(A):\n",
        "    cof = cofactor_matrix(A)\n",
        "    adj = cof.T  # Chuyển vị của ma trận hệ số kép\n",
        "    return adj\n",
        "A = np.array([[2, -1, 0], [1, 3, -2], [0, 5, 1]])\n",
        "\n",
        "cof = cofactor_matrix(A)\n",
        "adj = adjoint_matrix(A)\n",
        "\n",
        "print(\"Ma trận hệ số kép (cofactor matrix):\\n\", cof)\n",
        "print(\"Ma trận liên hợp (adjoint matrix):\\n\", adj)\n"
      ],
      "metadata": {
        "colab": {
          "base_uri": "https://localhost:8080/"
        },
        "id": "iPvCGinRm_oW",
        "outputId": "1ef46778-67e1-47f3-f95e-5dd412ea8bcd"
      },
      "execution_count": 27,
      "outputs": [
        {
          "output_type": "stream",
          "name": "stdout",
          "text": [
            "Ma trận hệ số kép (cofactor matrix):\n",
            " [[ 13.  -1.   5.]\n",
            " [  1.   2. -10.]\n",
            " [  2.   4.   7.]]\n",
            "Ma trận liên hợp (adjoint matrix):\n",
            " [[ 13.   1.   2.]\n",
            " [ -1.   2.   4.]\n",
            " [  5. -10.   7.]]\n"
          ]
        }
      ]
    },
    {
      "cell_type": "markdown",
      "source": [
        "Bài 2\n"
      ],
      "metadata": {
        "id": "V7Lsc8XRnI8V"
      }
    },
    {
      "cell_type": "code",
      "source": [
        "from sympy import symbols, Matrix, simplify, Eq, solve\n",
        "\n",
        "# Khai báo biến x, y là tọa độ cần tìm\n",
        "x, y = symbols('x y')\n",
        "\n",
        "# Nhập vào tọa độ 3 điểm\n",
        "x1, y1 = 1, 1\n",
        "x2, y2 = 2, 4\n",
        "x3, y3 = 5, 3\n",
        "\n",
        "# Xây dựng ma trận theo hướng dẫn\n",
        "M = Matrix([\n",
        "    [x**2 + y**2, x, y, 1],\n",
        "    [x1**2 + y1**2, x1, y1, 1],\n",
        "    [x2**2 + y2**2, x2, y2, 1],\n",
        "    [x3**2 + y3**2, x3, y3, 1],\n",
        "])\n",
        "\n",
        "# Tính định thức\n",
        "det = M.det()\n",
        "\n",
        "# Rút gọn và hiển thị phương trình đường tròn\n",
        "circle_eq = simplify(det)\n",
        "print(\"Phương trình đường tròn là:\")\n",
        "print(Eq(circle_eq, 0))\n"
      ],
      "metadata": {
        "colab": {
          "base_uri": "https://localhost:8080/"
        },
        "id": "BsxPUFjKnKNb",
        "outputId": "d79ca659-aa2f-4995-a225-297a0f6a1587"
      },
      "execution_count": 28,
      "outputs": [
        {
          "output_type": "stream",
          "name": "stdout",
          "text": [
            "Phương trình đường tròn là:\n",
            "Eq(-10*x**2 + 60*x - 10*y**2 + 40*y - 80, 0)\n"
          ]
        }
      ]
    }
  ]
}