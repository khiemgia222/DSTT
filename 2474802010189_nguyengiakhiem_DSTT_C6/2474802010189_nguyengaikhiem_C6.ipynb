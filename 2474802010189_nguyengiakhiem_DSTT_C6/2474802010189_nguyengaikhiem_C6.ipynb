{
  "nbformat": 4,
  "nbformat_minor": 0,
  "metadata": {
    "colab": {
      "provenance": []
    },
    "kernelspec": {
      "name": "python3",
      "display_name": "Python 3"
    },
    "language_info": {
      "name": "python"
    }
  },
  "cells": [
    {
      "cell_type": "markdown",
      "source": [
        "# BÀI TẬP TRÊN LỚP"
      ],
      "metadata": {
        "id": "Fb7iSAvzbViA"
      }
    },
    {
      "cell_type": "markdown",
      "source": [
        "Bài 1:"
      ],
      "metadata": {
        "id": "4p_ZXYSHbaEm"
      }
    },
    {
      "cell_type": "code",
      "source": [
        "import numpy as np\n",
        "a = np.array([1,2,3])\n",
        "b = np.array([4,5,6])\n",
        "tich = np.inner(a,b) # tích vô hướng\n",
        "kq = np.dot(a,b)\n",
        "print (tich)\n",
        "print(kq)"
      ],
      "metadata": {
        "colab": {
          "base_uri": "https://localhost:8080/"
        },
        "id": "PxXoFaNWbbsu",
        "outputId": "283ccf49-65a7-4d2f-8db9-28828a514257"
      },
      "execution_count": 2,
      "outputs": [
        {
          "output_type": "stream",
          "name": "stdout",
          "text": [
            "32\n",
            "32\n"
          ]
        }
      ]
    },
    {
      "cell_type": "markdown",
      "source": [
        "Bài 2:"
      ],
      "metadata": {
        "id": "ugVgjt7UcBiu"
      }
    },
    {
      "cell_type": "code",
      "source": [
        "import numpy as np\n",
        "a = np.array([1,2,-3])\n",
        "kq = np.linalg.norm(a)\n",
        "re = np.linalg.norm(a,1)\n",
        "print(kq)\n",
        "print(re)"
      ],
      "metadata": {
        "colab": {
          "base_uri": "https://localhost:8080/"
        },
        "id": "I1ZKEoMzcDHH",
        "outputId": "3f5f2086-2489-4b52-fdfc-eacb13d9ad54"
      },
      "execution_count": 5,
      "outputs": [
        {
          "output_type": "stream",
          "name": "stdout",
          "text": [
            "3.7416573867739413\n",
            "6.0\n"
          ]
        }
      ]
    },
    {
      "cell_type": "markdown",
      "source": [
        "Bài 2.1:"
      ],
      "metadata": {
        "id": "8--b4yZSc5N1"
      }
    },
    {
      "cell_type": "code",
      "source": [
        "import math\n",
        "import numpy as np\n",
        "a = np.array([1,2,-3])\n",
        "print('Chuẩn 1 là:',chuan(a, 1))\n",
        "print('Chuẩn 1 là:',np.linalg.norm(a, 1))\n",
        "print('Chuẩn 2 là:',chuan(a,2))\n",
        "print('Chuẩn 2 là:',np.linalg.norm(a,2))\n",
        "print('Chuẩn 3 là:',chuan(a,3))\n",
        "print('Chuẩn 3 là:',np.linalg.norm(a,3))\n",
        "print('Chuẩn 1000 là:',chuan(a,1000))\n",
        "print('Chuẩn 1000 là:',np.linalg.norm(a,1000))"
      ],
      "metadata": {
        "colab": {
          "base_uri": "https://localhost:8080/"
        },
        "id": "cjEP7lnfc8As",
        "outputId": "c68b3bb2-63a2-4e67-cfa7-212a8f377cc2"
      },
      "execution_count": 13,
      "outputs": [
        {
          "output_type": "stream",
          "name": "stdout",
          "text": [
            "Chuẩn 1 là: 6.0\n",
            "Chuẩn 1 là: 6.0\n",
            "Chuẩn 2 là: 3.7416573867739413\n",
            "Chuẩn 2 là: 3.7416573867739413\n",
            "Chuẩn 3 là: 3.3019272488946263\n",
            "Chuẩn 3 là: 3.3019272488946263\n",
            "Chuẩn 1000 là: 1.0442214818467515\n",
            "Chuẩn 1000 là: inf\n"
          ]
        },
        {
          "output_type": "stream",
          "name": "stderr",
          "text": [
            "/usr/local/lib/python3.11/dist-packages/numpy/linalg/_linalg.py:2780: RuntimeWarning: overflow encountered in power\n",
            "  absx **= ord\n"
          ]
        }
      ]
    },
    {
      "cell_type": "markdown",
      "source": [
        "Bài 3:"
      ],
      "metadata": {
        "id": "WeYWXLSNfoQd"
      }
    },
    {
      "cell_type": "code",
      "source": [
        "import numpy as np\n",
        "\n",
        "# Khai báo ma trận A\n",
        "A = np.array([[0.998, 0.136],\n",
        "              [0.002, 0.864]])\n",
        "\n",
        "# Khai báo vector v0 (trạng thái ban đầu)\n",
        "v0 = np.array([[0.95],\n",
        "               [0.05]])\n",
        "\n",
        "# Tính A^100\n",
        "A_power_100 = np.linalg.matrix_power(A, 100)\n",
        "\n",
        "# Tính vector sau 100 tuần: v100 = A^100 * v0\n",
        "v100 = np.dot(A_power_100, v0)\n",
        "\n",
        "# In kết quả x100 và y100\n",
        "print(\"x100 (tỉ lệ thất nghiệp):\", v100[0, 0])\n",
        "print(\"y100 (tỉ lệ có việc làm):\", v100[1, 0])\n"
      ],
      "metadata": {
        "colab": {
          "base_uri": "https://localhost:8080/"
        },
        "id": "bqSeenlefpfG",
        "outputId": "b560aa76-39ae-43f2-abba-dce01fd17be9"
      },
      "execution_count": 14,
      "outputs": [
        {
          "output_type": "stream",
          "name": "stdout",
          "text": [
            "x100 (tỉ lệ thất nghiệp): 0.9855072337572737\n",
            "y100 (tỉ lệ có việc làm): 0.01449276624272995\n"
          ]
        }
      ]
    },
    {
      "cell_type": "markdown",
      "source": [
        "Bài 3.1: Giải bằng gói numpy"
      ],
      "metadata": {
        "id": "TtydsBr2h4do"
      }
    },
    {
      "cell_type": "code",
      "source": [
        "import numpy as np\n",
        "\n",
        "# Hệ phương trình:\n",
        "# x - 68y = 0\n",
        "# x + y = 1\n",
        "\n",
        "# Khai báo ma trận hệ số A và vector B\n",
        "A = np.array([[1, -68],\n",
        "              [1, 1]])\n",
        "B = np.array([0, 1])\n",
        "\n",
        "# Giải hệ phương trình\n",
        "solution = np.linalg.solve(A, B)\n",
        "\n",
        "# Kết quả\n",
        "x, y = solution\n",
        "print(\"x (tỉ lệ thất nghiệp) =\", x)\n",
        "print(\"y (tỉ lệ có việc làm) =\", y)\n"
      ],
      "metadata": {
        "colab": {
          "base_uri": "https://localhost:8080/"
        },
        "id": "ZTcOwDpDh6Av",
        "outputId": "e3e85c83-b0fe-41f2-d412-b9f780329867"
      },
      "execution_count": 15,
      "outputs": [
        {
          "output_type": "stream",
          "name": "stdout",
          "text": [
            "x (tỉ lệ thất nghiệp) = 0.9855072463768116\n",
            "y (tỉ lệ có việc làm) = 0.014492753623188406\n"
          ]
        }
      ]
    },
    {
      "cell_type": "markdown",
      "source": [
        "Bài 3.2: Giải bằng gói sympy"
      ],
      "metadata": {
        "id": "Dp1D41_kiRoo"
      }
    },
    {
      "cell_type": "code",
      "source": [
        "import sympy as sym\n",
        "from sympy import symbols\n",
        "x, y = sym.symbols('x y')\n",
        "xy = sym.Matrix([x,y]) # khai báo vector: (x, y)T\n",
        "A = sym.Matrix([[1, -68],[1,1]])\n",
        "v = sym.Matrix([0, 1])\n",
        "nghiem = sym.solve([A*xy-v]) # phương trình được chuyển về 1 phía\n",
        "print(sym.pretty(nghiem))"
      ],
      "metadata": {
        "colab": {
          "base_uri": "https://localhost:8080/"
        },
        "id": "0UYkJNeTiXJv",
        "outputId": "fc1dec2c-e3b4-4f7e-c33c-d1bfcea47ade"
      },
      "execution_count": 16,
      "outputs": [
        {
          "output_type": "stream",
          "name": "stdout",
          "text": [
            "⎧   68         ⎫\n",
            "⎨x: ──, y: 1/69⎬\n",
            "⎩   69         ⎭\n"
          ]
        }
      ]
    },
    {
      "cell_type": "markdown",
      "source": [
        "Bài 3.3:"
      ],
      "metadata": {
        "id": "bAMLvWS2izwt"
      }
    },
    {
      "cell_type": "code",
      "source": [
        "import numpy as np\n",
        "\n",
        "# Khai báo ma trận A\n",
        "A = np.array([[1, 6],\n",
        "              [5, 2]])\n",
        "\n",
        "# Khai báo vector riêng u\n",
        "u = np.array([[6],\n",
        "              [-5]])\n",
        "\n",
        "# Tính Au\n",
        "Au = np.dot(A, u)\n",
        "\n",
        "# Tính -4u\n",
        "minus4u = -4 * u\n",
        "\n",
        "# Kiểm tra\n",
        "print(\"A * u =\\n\", Au)\n",
        "print(\"-4 * u =\\n\", minus4u)\n",
        "\n",
        "# Kiểm tra xem có bằng nhau không\n",
        "if np.allclose(Au, minus4u):\n",
        "    print(\"=> Đúng, Au = -4u\")\n",
        "else:\n",
        "    print(\"=> Sai, Au khác -4u\")\n"
      ],
      "metadata": {
        "colab": {
          "base_uri": "https://localhost:8080/"
        },
        "id": "cP1jGpL9i1Uu",
        "outputId": "7a647b05-67ac-4b73-9bc6-7c8ef5b8c46b"
      },
      "execution_count": 17,
      "outputs": [
        {
          "output_type": "stream",
          "name": "stdout",
          "text": [
            "A * u =\n",
            " [[-24]\n",
            " [ 20]]\n",
            "-4 * u =\n",
            " [[-24]\n",
            " [ 20]]\n",
            "=> Đúng, Au = -4u\n"
          ]
        }
      ]
    },
    {
      "cell_type": "markdown",
      "source": [
        "Bài 3.4:"
      ],
      "metadata": {
        "id": "GB50E32Hjzwe"
      }
    },
    {
      "cell_type": "code",
      "source": [
        "import sympy\n",
        "x, y, Lambda = sympy.symbols('x y Lambda')\n",
        "I = sympy.eye(2)\n",
        "A = sympy.Matrix([[2,3],[3,-6]])\n",
        "phuongtrinh = sympy.Eq(sympy.det(Lambda*I-A), 0)\n",
        "nghiem = sympy.solve(phuongtrinh)\n",
        "print([sympy.N(phantu,4) for phantu in nghiem])\n",
        "\n",
        "print (sympy.pretty(nghiem))"
      ],
      "metadata": {
        "colab": {
          "base_uri": "https://localhost:8080/"
        },
        "id": "ZbvCLKe7j2kr",
        "outputId": "21ee366b-7d6e-490c-9ec5-dbf7714b368d"
      },
      "execution_count": 18,
      "outputs": [
        {
          "output_type": "stream",
          "name": "stdout",
          "text": [
            "[-7.000, 3.000]\n",
            "[-7, 3]\n"
          ]
        }
      ]
    },
    {
      "cell_type": "markdown",
      "source": [
        "Bài 3.5:"
      ],
      "metadata": {
        "id": "GMjYe1STkS5X"
      }
    },
    {
      "cell_type": "code",
      "source": [
        "import numpy as np\n",
        "A = np.array([[2,3],[3,-6]])\n",
        "D = np.array([[-7,0],[0,3]])\n",
        "P = np.array([[-1.0/3, 3],[1,1]])\n",
        "from numpy import linalg\n",
        "from numpy import linalg as LA\n",
        "P1 = LA.inv(P) # tính giá trị nghịch đảo của P\n",
        "print (P1)\n",
        "print(A.dot(P))\n",
        "print( P @ (D ** 1000) @ P1 )\n",
        "print(D**2)"
      ],
      "metadata": {
        "colab": {
          "base_uri": "https://localhost:8080/"
        },
        "id": "1SNZxXP4kVAs",
        "outputId": "80cee949-d9d9-4178-f0f2-f174bfb23222"
      },
      "execution_count": 19,
      "outputs": [
        {
          "output_type": "stream",
          "name": "stdout",
          "text": [
            "[[-0.3  0.9]\n",
            " [ 0.3  0.1]]\n",
            "[[ 2.33333333  9.        ]\n",
            " [-7.          3.        ]]\n",
            "[[ 5.03503397e+18  3.50482117e+18]\n",
            " [ 3.50482117e+18 -4.31115581e+18]]\n",
            "[[49  0]\n",
            " [ 0  9]]\n"
          ]
        }
      ]
    },
    {
      "cell_type": "markdown",
      "source": [
        "# BÀI TẬP TRÊN LỚP"
      ],
      "metadata": {
        "id": "T2Yv9LbTk7si"
      }
    },
    {
      "cell_type": "markdown",
      "source": [
        "Bài 1:"
      ],
      "metadata": {
        "id": "uqCiEoIelA4l"
      }
    },
    {
      "cell_type": "code",
      "source": [
        "import numpy as np\n",
        "a = np.array([1,2,3])\n",
        "mag = np.sqrt(a.dot(a))\n",
        "print('Câu a:',mag)\n",
        "mag = np.sqrt(a @ a )\n",
        "print('Câu b:',mag)\n",
        "mag = np.sqrt(np.inner(a,a))\n",
        "print('Câu c:',mag)\n",
        "mag = lambda x : math.sqrt(sum(i** 2 for i in x))\n",
        "print('Câu d:',mag(a))"
      ],
      "metadata": {
        "colab": {
          "base_uri": "https://localhost:8080/"
        },
        "id": "eNrvOGyPlCby",
        "outputId": "0a36ddc4-84d8-4015-df7a-7c4dd56984ba"
      },
      "execution_count": 22,
      "outputs": [
        {
          "output_type": "stream",
          "name": "stdout",
          "text": [
            "Câu a: 3.7416573867739413\n",
            "Câu b: 3.7416573867739413\n",
            "Câu c: 3.7416573867739413\n",
            "Câu d: 3.7416573867739413\n"
          ]
        }
      ]
    },
    {
      "cell_type": "markdown",
      "source": [
        "Bài 2:"
      ],
      "metadata": {
        "id": "YXALgcyZlwXd"
      }
    },
    {
      "cell_type": "markdown",
      "source": [
        "Câu a:"
      ],
      "metadata": {
        "id": "Bq7Uwn02mVfn"
      }
    },
    {
      "cell_type": "code",
      "source": [
        "import numpy as np\n",
        "\n",
        "# Khai báo vector\n",
        "u = np.array([3, 4])\n",
        "v = np.array([1, 0])\n",
        "\n",
        "\n",
        "# Tính khoảng cách\n",
        "distance = np.linalg.norm(u - v)\n",
        "\n",
        "print(\"Khoảng cách giữa u và v:\", distance)\n"
      ],
      "metadata": {
        "colab": {
          "base_uri": "https://localhost:8080/"
        },
        "id": "mJXR5D6PmW7X",
        "outputId": "63fae50b-5a76-4e9a-d4ec-a9389f97c2fa"
      },
      "execution_count": 26,
      "outputs": [
        {
          "output_type": "stream",
          "name": "stdout",
          "text": [
            "Khoảng cách giữa u và v: 4.47213595499958\n"
          ]
        }
      ]
    },
    {
      "cell_type": "markdown",
      "source": [
        "Câu b:"
      ],
      "metadata": {
        "id": "ELJdMoxnmRyA"
      }
    },
    {
      "cell_type": "code",
      "source": [
        "import numpy as np\n",
        "u = np.array([3, 4])\n",
        "v = np.array([1, 0])\n",
        "\n",
        "# Tính tích vô hướng\n",
        "dot_product = np.dot(u, v)\n",
        "\n",
        "# Tính chuẩn (norm) của u và v\n",
        "norm_u = np.linalg.norm(u)\n",
        "norm_v = np.linalg.norm(v)\n",
        "\n",
        "# Tính cos(θ)\n",
        "cos_theta = dot_product / (norm_u * norm_v)\n",
        "\n",
        "# Đảm bảo giá trị cos nằm trong [-1, 1] tránh sai số máy\n",
        "cos_theta = np.clip(cos_theta, -1.0, 1.0)\n",
        "\n",
        "# Tính θ (theo radian)\n",
        "theta = np.arccos(cos_theta)\n",
        "\n",
        "# Đổi sang độ nếu muốn\n",
        "theta_degree = np.degrees(theta)\n",
        "\n",
        "print(\"Góc giữa u và v (radian):\", theta)\n",
        "print(\"Góc giữa u và v (độ):\", theta_degree)\n"
      ],
      "metadata": {
        "colab": {
          "base_uri": "https://localhost:8080/"
        },
        "id": "bT3Rb8uwlyWH",
        "outputId": "bd4fc00c-a97e-406e-8e1e-f06f5afaeb2e"
      },
      "execution_count": 24,
      "outputs": [
        {
          "output_type": "stream",
          "name": "stdout",
          "text": [
            "Góc giữa u và v (radian): 0.9272952180016123\n",
            "Góc giữa u và v (độ): 53.13010235415599\n"
          ]
        }
      ]
    },
    {
      "cell_type": "markdown",
      "source": [
        "Câu c:"
      ],
      "metadata": {
        "id": "rYh_gnikmlGP"
      }
    },
    {
      "cell_type": "code",
      "source": [
        "import numpy as np\n",
        "u = np.array([3, 4])\n",
        "v = np.array([1, 0])\n",
        "# Tính phép chiếu p\n",
        "p = (np.dot(u, v) / np.dot(v, v)) * v\n",
        "\n",
        "print(\"Phép chiếu trực giao của u lên v là:\", p)\n"
      ],
      "metadata": {
        "colab": {
          "base_uri": "https://localhost:8080/"
        },
        "id": "TyY20cVAmmmZ",
        "outputId": "97897fb1-ed22-48f2-9544-4a39bdfbcc50"
      },
      "execution_count": 27,
      "outputs": [
        {
          "output_type": "stream",
          "name": "stdout",
          "text": [
            "Phép chiếu trực giao của u lên v là: [3. 0.]\n"
          ]
        }
      ]
    }
  ]
}