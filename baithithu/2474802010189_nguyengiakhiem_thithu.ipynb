{
  "nbformat": 4,
  "nbformat_minor": 0,
  "metadata": {
    "colab": {
      "provenance": []
    },
    "kernelspec": {
      "name": "python3",
      "display_name": "Python 3"
    },
    "language_info": {
      "name": "python"
    }
  },
  "cells": [
    {
      "cell_type": "markdown",
      "source": [
        "# ĐỀ THI THỰC HÀNH ĐẠI SỐ TUYẾN TÍNH"
      ],
      "metadata": {
        "id": "RYzGzJfCiFi8"
      }
    },
    {
      "cell_type": "markdown",
      "source": [
        "Bài 1:"
      ],
      "metadata": {
        "id": "0HIDDNGoiUkE"
      }
    },
    {
      "cell_type": "code",
      "source": [
        "import numpy as np\n",
        "\n",
        "# Khai báo vector và ma trận\n",
        "vec_A = np.array([2, -1, 3, 0])\n",
        "vec_B = np.array([1, 4, -2, 5])\n",
        "\n",
        "\n",
        "# ---- a) Tính A+B và 3A-2B ----\n",
        "sum_AB = vec_A + vec_B\n",
        "scaled = 3 * vec_A - 2 * vec_B\n",
        "\n",
        "print(\"a) A + B =\", sum_AB)\n",
        "print(\"   3A - 2B =\", scaled)\n",
        "\n"
      ],
      "metadata": {
        "colab": {
          "base_uri": "https://localhost:8080/"
        },
        "id": "cshWefGBiWN_",
        "outputId": "0714629f-eac9-4ae3-b054-8b8ddd92bdb7"
      },
      "execution_count": 17,
      "outputs": [
        {
          "output_type": "stream",
          "name": "stdout",
          "text": [
            "a) A + B = [3 3 1 5]\n",
            "   3A - 2B = [  4 -11  13 -10]\n"
          ]
        }
      ]
    },
    {
      "cell_type": "markdown",
      "source": [
        "1b:"
      ],
      "metadata": {
        "id": "1YkW-wudoFBY"
      }
    },
    {
      "cell_type": "code",
      "source": [
        "import numpy as np\n",
        "\n",
        "# Khai báo vector và ma trận\n",
        "vec_A = np.array([2, -1, 3, 0])\n",
        "vec_B = np.array([1, 4, -2, 5])\n",
        "# ---- b) Tích vô hướng và góc ----\n",
        "dot_product = np.dot(vec_A, vec_B)\n",
        "norm_A = np.linalg.norm(vec_A)\n",
        "norm_B = np.linalg.norm(vec_B)\n",
        "\n",
        "cos_theta = dot_product / (norm_A * norm_B)\n",
        "theta_rad = np.arccos(cos_theta)\n",
        "theta_deg = np.degrees(theta_rad)\n",
        "\n",
        "print(\"b) A . B =\", dot_product)\n",
        "print(f\"   Góc giữa A và B = {theta_deg:.3f} độ\")\n"
      ],
      "metadata": {
        "colab": {
          "base_uri": "https://localhost:8080/"
        },
        "id": "JOYYoAlSoKLS",
        "outputId": "5ccd35b6-d6a6-4cf7-b92a-6d8d101c40c5"
      },
      "execution_count": 15,
      "outputs": [
        {
          "output_type": "stream",
          "name": "stdout",
          "text": [
            "b) A . B = -8\n",
            "   Góc giữa A và B = 108.376 độ\n"
          ]
        }
      ]
    },
    {
      "cell_type": "markdown",
      "source": [
        "1c:"
      ],
      "metadata": {
        "id": "1DiOP7ywoTe_"
      }
    },
    {
      "cell_type": "code",
      "source": [
        "import numpy as np\n",
        "mat_C = np.array([\n",
        "    [1, 2, -1],\n",
        "    [0, 3, 4],\n",
        "    [2, -1, 0]\n",
        "])\n",
        "# ---- c) Tích ma trận C^T C ----\n",
        "Ct = mat_C.T\n",
        "CtC = Ct @ mat_C  # dùng @ thay vì np.dot\n",
        "\n",
        "print(\"c) C^T * C =\")\n",
        "print(CtC)\n"
      ],
      "metadata": {
        "colab": {
          "base_uri": "https://localhost:8080/"
        },
        "id": "M0AH9ri2oUZc",
        "outputId": "0725dbf2-7c2c-40ff-ae36-073ad5afabed"
      },
      "execution_count": 16,
      "outputs": [
        {
          "output_type": "stream",
          "name": "stdout",
          "text": [
            "c) C^T * C =\n",
            "[[ 5  0 -1]\n",
            " [ 0 14 10]\n",
            " [-1 10 17]]\n"
          ]
        }
      ]
    },
    {
      "cell_type": "markdown",
      "source": [
        "Bài 2:"
      ],
      "metadata": {
        "id": "EMwUQ8W4jpXm"
      }
    },
    {
      "cell_type": "code",
      "source": [
        "import numpy as np\n",
        "\n",
        "# Khai báo ma trận M và N\n",
        "M = np.array([\n",
        "    [1, 2, 3, 0],\n",
        "    [4, 5, 6, 1],\n",
        "    [7, 8, 9, 2],\n",
        "    [0, 1, 1, 0]\n",
        "])\n",
        "\n",
        "N = np.array([\n",
        "    [0, 1, 2, 3],\n",
        "    [4, 5, 6, 7],\n",
        "    [8, 9, 10, 11],\n",
        "    [12, 13, 14, 15]\n",
        "])\n",
        "\n",
        "# ---- a) Tính tích ma trận M x N ----\n",
        "product_MN = M @ N  # hoặc np.dot(M, N)\n",
        "\n",
        "print(\"a) Tích M x N =\")\n",
        "print(product_MN)\n"
      ],
      "metadata": {
        "colab": {
          "base_uri": "https://localhost:8080/"
        },
        "id": "M_ORCM6PjsQ8",
        "outputId": "fd0d83bf-922a-47e7-bfe2-5e9a9de91c91"
      },
      "execution_count": 20,
      "outputs": [
        {
          "output_type": "stream",
          "name": "stdout",
          "text": [
            "a) Tích M x N =\n",
            "[[ 32  38  44  50]\n",
            " [ 80  96 112 128]\n",
            " [128 154 180 206]\n",
            " [ 12  14  16  18]]\n"
          ]
        }
      ]
    },
    {
      "cell_type": "markdown",
      "source": [
        "2b:"
      ],
      "metadata": {
        "id": "uaxQPHUroqZQ"
      }
    },
    {
      "cell_type": "code",
      "source": [
        "import numpy as np\n",
        "\n",
        "# Khai báo ma trận M\n",
        "M = np.array([\n",
        "    [1, 2, 3, 0],\n",
        "    [4, 5, 6, 1],\n",
        "    [7, 8, 9, 2],\n",
        "    [0, 1, 1, 0]\n",
        "])\n",
        "# ---- b) Tính định thức của M ----\n",
        "try:\n",
        "    det_M = np.linalg.det(M)\n",
        "    print(f\"\\nb) Định thức của M = {det_M:.3f}\")\n",
        "except np.linalg.LinAlgError:\n",
        "    print(\"\\nb) Không thể tính định thức vì M không là ma trận vuông.\")"
      ],
      "metadata": {
        "colab": {
          "base_uri": "https://localhost:8080/"
        },
        "id": "RVP74kJ1or1G",
        "outputId": "861012a3-c4ea-4c39-aee7-ba7995e1dddc"
      },
      "execution_count": 18,
      "outputs": [
        {
          "output_type": "stream",
          "name": "stdout",
          "text": [
            "\n",
            "b) Định thức của M = 0.000\n"
          ]
        }
      ]
    },
    {
      "cell_type": "markdown",
      "source": [
        "2c:"
      ],
      "metadata": {
        "id": "okJxpN2uo2O2"
      }
    },
    {
      "cell_type": "code",
      "source": [
        "import numpy as np\n",
        "N = np.array([\n",
        "    [0, 1, 2, 3],\n",
        "    [4, 5, 6, 7],\n",
        "    [8, 9, 10, 11],\n",
        "    [12, 13, 14, 15]\n",
        "])\n",
        "# ---- c) Tính hạng của ma trận N ----\n",
        "rank_N = np.linalg.matrix_rank(N)\n",
        "print(f\"\\nc) Hạng của N = {rank_N}\")"
      ],
      "metadata": {
        "colab": {
          "base_uri": "https://localhost:8080/"
        },
        "id": "SYTZhIoeo3hH",
        "outputId": "affe58c1-6198-4698-eb3b-b833213bf247"
      },
      "execution_count": 19,
      "outputs": [
        {
          "output_type": "stream",
          "name": "stdout",
          "text": [
            "\n",
            "c) Hạng của N = 2\n"
          ]
        }
      ]
    },
    {
      "cell_type": "markdown",
      "source": [
        "Bài 3:"
      ],
      "metadata": {
        "id": "YLPH0dbUmxAG"
      }
    },
    {
      "cell_type": "code",
      "source": [
        "import numpy as np\n",
        "\n",
        "# Khai báo ma trận P và vector hằng số b\n",
        "P = np.array([\n",
        "    [2, 1, 0, 1],\n",
        "    [0, 3, 1, -1],\n",
        "    [1, 0, 4, 2],\n",
        "    [0, 1, 0, 3]\n",
        "])\n",
        "\n",
        "b = np.array([4, 7, 9, 5])  # Vector hằng số từ hệ phương trình\n",
        "\n",
        "# ---- a) Tìm ma trận nghịch đảo của P ----\n",
        "try:\n",
        "    P_inv = np.linalg.inv(P)\n",
        "    print(\"a) Ma trận nghịch đảo P^-1 =\")\n",
        "    print(P_inv)\n",
        "except np.linalg.LinAlgError:\n",
        "    print(\"a) Ma trận P không khả nghịch vì định thức bằng 0.\")\n",
        "\n",
        "# ---- b) Giải hệ phương trình bằng nghịch đảo ma trận ----\n",
        "if 'P_inv' in locals():  # Chỉ thực hiện nếu P khả nghịch\n",
        "    x = P_inv @ b\n",
        "    print(\"\\nb) Nghiệm của hệ phương trình (x, y, z, w) =\")\n",
        "    print(x)\n",
        "else:\n",
        "    print(\"\\nb) Không thể giải hệ vì P không khả nghịch.\")\n",
        "\n",
        "# ---- c) Kiểm tra nghiệm ----\n",
        "if 'x' in locals():\n",
        "    check = P @ x\n",
        "    print(\"\\nc) Kiểm tra P * nghiệm:\")\n",
        "    print(\"P * x =\", check)\n",
        "    print(\"Vector hằng số b =\", b)\n",
        "    print(\"Có bằng nhau không?\", np.allclose(check, b))\n"
      ],
      "metadata": {
        "colab": {
          "base_uri": "https://localhost:8080/"
        },
        "id": "7yxIb6GEmyo4",
        "outputId": "95c29294-41ca-43f8-fbc9-338875ed0bc4"
      },
      "execution_count": 11,
      "outputs": [
        {
          "output_type": "stream",
          "name": "stdout",
          "text": [
            "a) Ma trận nghịch đảo P^-1 =\n",
            "[[ 0.48837209 -0.09302326  0.02325581 -0.20930233]\n",
            " [ 0.03488372  0.27906977 -0.06976744  0.12790698]\n",
            " [-0.11627907  0.06976744  0.23255814 -0.09302326]\n",
            " [-0.01162791 -0.09302326  0.02325581  0.29069767]]\n",
            "\n",
            "b) Nghiệm của hệ phương trình (x, y, z, w) =\n",
            "[0.46511628 2.10465116 1.65116279 0.96511628]\n",
            "\n",
            "c) Kiểm tra P * nghiệm:\n",
            "P * x = [4. 7. 9. 5.]\n",
            "Vector hằng số b = [4 7 9 5]\n",
            "Có bằng nhau không? True\n"
          ]
        }
      ]
    },
    {
      "cell_type": "markdown",
      "source": [
        "Bài 4:"
      ],
      "metadata": {
        "id": "vuNi7XETnUwx"
      }
    },
    {
      "cell_type": "code",
      "source": [
        "import numpy as np\n",
        "\n",
        "# Define the matrix Q\n",
        "Q = np.array([[4, -1, 0],\n",
        "              [1,  3, -2],\n",
        "              [0,  1,  2]])\n",
        "\n",
        "print(\"Ma trận Q:\\n\", Q)\n",
        "\n",
        "# a) Tìm các giá trị riêng (eigenvalues) của Q\n",
        "eigenvalues, eigenvectors = np.linalg.eig(Q)\n",
        "print(\"\\n--- a) Giá trị riêng (Eigenvalues) của Q ---\")\n",
        "for i, val in enumerate(eigenvalues):\n",
        "    print(f\"Giá trị riêng {i+1}: {val:.4f}\")\n",
        "\n",
        "# b) Tìm các vector riêng (eigenvectors) tương ứng với các giá trị riêng\n",
        "print(\"\\n--- b) Vector riêng (Eigenvectors) tương ứng với các giá trị riêng ---\")\n",
        "# The eigenvectors are columns of the matrix 'eigenvectors'\n",
        "for i, vec in enumerate(eigenvectors.T):  # .T to iterate over columns\n",
        "    print(f\"Vector riêng tương ứng với giá trị riêng {eigenvalues[i]:.4f}:\")\n",
        "    print(vec)\n",
        "\n",
        "# c) Chuẩn hóa tất cả các vector riêng (độ dài bằng 1)\n",
        "print(\"\\n--- c) Các Vector riêng đã chuẩn hóa (Normalized Eigenvectors) ---\")\n",
        "normalized_eigenvectors = []\n",
        "for i, vec in enumerate(eigenvectors.T):\n",
        "    norm = np.linalg.norm(vec)\n",
        "    normalized_vec = vec / norm\n",
        "    normalized_eigenvectors.append(normalized_vec)\n",
        "    print(f\"Vector riêng đã chuẩn hóa {i+1} (tương ứng với giá trị riêng {eigenvalues[i]:.4f}):\")\n",
        "    print(normalized_vec)\n",
        "    print(f\"Độ dài của vector riêng đã chuẩn hóa: {np.linalg.norm(normalized_vec):.4f}\")"
      ],
      "metadata": {
        "colab": {
          "base_uri": "https://localhost:8080/"
        },
        "id": "5w6JvfnEnV94",
        "outputId": "3bf914ee-3319-4dde-b3d0-db85de404b61"
      },
      "execution_count": 12,
      "outputs": [
        {
          "output_type": "stream",
          "name": "stdout",
          "text": [
            "Ma trận Q:\n",
            " [[ 4 -1  0]\n",
            " [ 1  3 -2]\n",
            " [ 0  1  2]]\n",
            "\n",
            "--- a) Giá trị riêng (Eigenvalues) của Q ---\n",
            "Giá trị riêng 1: 3.4534+0.0000j\n",
            "Giá trị riêng 2: 2.7733+1.4677j\n",
            "Giá trị riêng 3: 2.7733-1.4677j\n",
            "\n",
            "--- b) Vector riêng (Eigenvectors) tương ứng với các giá trị riêng ---\n",
            "Vector riêng tương ứng với giá trị riêng 3.4534+0.0000j:\n",
            "[0.83327121+0.j 0.455468  +0.j 0.31338154+0.j]\n",
            "Vector riêng tương ứng với giá trị riêng 2.7733+1.4677j:\n",
            "[-0.26206044-0.31354813j -0.78166743+0.j         -0.21963176+0.41685708j]\n",
            "Vector riêng tương ứng với giá trị riêng 2.7733-1.4677j:\n",
            "[-0.26206044+0.31354813j -0.78166743-0.j         -0.21963176-0.41685708j]\n",
            "\n",
            "--- c) Các Vector riêng đã chuẩn hóa (Normalized Eigenvectors) ---\n",
            "Vector riêng đã chuẩn hóa 1 (tương ứng với giá trị riêng 3.4534+0.0000j):\n",
            "[0.83327121+0.j 0.455468  +0.j 0.31338154+0.j]\n",
            "Độ dài của vector riêng đã chuẩn hóa: 1.0000\n",
            "Vector riêng đã chuẩn hóa 2 (tương ứng với giá trị riêng 2.7733+1.4677j):\n",
            "[-0.26206044-0.31354813j -0.78166743+0.j         -0.21963176+0.41685708j]\n",
            "Độ dài của vector riêng đã chuẩn hóa: 1.0000\n",
            "Vector riêng đã chuẩn hóa 3 (tương ứng với giá trị riêng 2.7733-1.4677j):\n",
            "[-0.26206044+0.31354813j -0.78166743+0.j         -0.21963176-0.41685708j]\n",
            "Độ dài của vector riêng đã chuẩn hóa: 1.0000\n"
          ]
        }
      ]
    },
    {
      "cell_type": "markdown",
      "source": [
        "Bài 5:"
      ],
      "metadata": {
        "id": "MMysV8SgnZ0T"
      }
    },
    {
      "cell_type": "code",
      "source": [
        "import numpy as np\n",
        "\n",
        "# Define the matrix R and vector b\n",
        "R = np.array([[1, -2, 3],\n",
        "              [2,  0, 1],\n",
        "              [-1, 1, 4]])\n",
        "\n",
        "b = np.array([10, 8, 7])\n",
        "\n",
        "print(\"Ma trận R:\\n\", R)\n",
        "print(\"\\nVector b:\\n\", b)\n",
        "\n",
        "# a) Giải hệ phương trình Rx = b bằng phương pháp np.linalg.solve()\n",
        "print(\"\\n--- a) Giải hệ phương trình Rx = b bằng np.linalg.solve() ---\")\n",
        "try:\n",
        "    x_solve = np.linalg.solve(R, b)\n",
        "    print(\"Nghiệm x (sử dụng np.linalg.solve()):\\n\", x_solve)\n",
        "    # Verify the solution\n",
        "    print(\"Kiểm tra: R @ x =\", R @ x_solve)\n",
        "except np.linalg.LinAlgError as e:\n",
        "    print(f\"Lỗi khi giải hệ phương trình: {e}. Ma trận có thể không khả nghịch.\")\n",
        "\n",
        "# b) Xác định xem ma trận R có khả nghịch không.\n",
        "# Nếu có, tính ma trận nghịch đảo và dùng nó để giải lại hệ. So sánh hai nghiệm.\n",
        "print(\"\\n--- b) Kiểm tra tính khả nghịch, tính ma trận nghịch đảo và giải lại hệ ---\")\n",
        "try:\n",
        "    # Calculate the determinant to check invertibility. If determinant is non-zero, it's invertible.\n",
        "    det_R = np.linalg.det(R)\n",
        "    print(f\"Định thức của R (det(R)): {det_R:.4f}\")\n",
        "\n",
        "    if det_R != 0:\n",
        "        print(\"Ma trận R khả nghịch (vì định thức khác 0).\")\n",
        "        R_inv = np.linalg.inv(R)\n",
        "        print(\"Ma trận nghịch đảo của R (R_inv):\\n\", R_inv)\n",
        "\n",
        "        # Solve the system using the inverse matrix: x = R_inv @ b\n",
        "        x_inv = R_inv @ b\n",
        "        print(\"Nghiệm x (sử dụng ma trận nghịch đảo):\\n\", x_inv)\n",
        "\n",
        "        # Compare the two solutions\n",
        "        print(\"\\nSo sánh hai nghiệm:\")\n",
        "        print(\"Nghiệm từ np.linalg.solve():\", x_solve)\n",
        "        print(\"Nghiệm từ ma trận nghịch đảo:\", x_inv)\n",
        "        # Check if they are approximately equal\n",
        "        if np.allclose(x_solve, x_inv):\n",
        "            print(\"Hai nghiệm giống nhau (hoặc rất gần nhau).\")\n",
        "        else:\n",
        "            print(\"Hai nghiệm khác nhau.\")\n",
        "\n",
        "    else:\n",
        "        print(\"Ma trận R không khả nghịch (vì định thức bằng 0).\")\n",
        "\n",
        "except np.linalg.LinAlgError as e:\n",
        "    print(f\"Lỗi khi tính ma trận nghịch đảo hoặc định thức: {e}. Ma trận có thể suy biến.\")\n",
        "\n",
        "# c) Tính chuẩn Frobenius của ma trận R\n",
        "print(\"\\n--- c) Chuẩn Frobenius của ma trận R ---\")\n",
        "frobenius_norm_R = np.linalg.norm(R, 'fro')\n",
        "print(f\"Chuẩn Frobenius của ma trận R: {frobenius_norm_R:.4f}\")"
      ],
      "metadata": {
        "colab": {
          "base_uri": "https://localhost:8080/"
        },
        "id": "nvEIahlanboH",
        "outputId": "68e69ee5-9e76-4b23-e152-04999ea14d01"
      },
      "execution_count": 13,
      "outputs": [
        {
          "output_type": "stream",
          "name": "stdout",
          "text": [
            "Ma trận R:\n",
            " [[ 1 -2  3]\n",
            " [ 2  0  1]\n",
            " [-1  1  4]]\n",
            "\n",
            "Vector b:\n",
            " [10  8  7]\n",
            "\n",
            "--- a) Giải hệ phương trình Rx = b bằng np.linalg.solve() ---\n",
            "Nghiệm x (sử dụng np.linalg.solve()):\n",
            " [2.7826087  0.04347826 2.43478261]\n",
            "Kiểm tra: R @ x = [10.  8.  7.]\n",
            "\n",
            "--- b) Kiểm tra tính khả nghịch, tính ma trận nghịch đảo và giải lại hệ ---\n",
            "Định thức của R (det(R)): 23.0000\n",
            "Ma trận R khả nghịch (vì định thức khác 0).\n",
            "Ma trận nghịch đảo của R (R_inv):\n",
            " [[-0.04347826  0.47826087 -0.08695652]\n",
            " [-0.39130435  0.30434783  0.2173913 ]\n",
            " [ 0.08695652  0.04347826  0.17391304]]\n",
            "Nghiệm x (sử dụng ma trận nghịch đảo):\n",
            " [2.7826087  0.04347826 2.43478261]\n",
            "\n",
            "So sánh hai nghiệm:\n",
            "Nghiệm từ np.linalg.solve(): [2.7826087  0.04347826 2.43478261]\n",
            "Nghiệm từ ma trận nghịch đảo: [2.7826087  0.04347826 2.43478261]\n",
            "Hai nghiệm giống nhau (hoặc rất gần nhau).\n",
            "\n",
            "--- c) Chuẩn Frobenius của ma trận R ---\n",
            "Chuẩn Frobenius của ma trận R: 6.0828\n"
          ]
        }
      ]
    }
  ]
}