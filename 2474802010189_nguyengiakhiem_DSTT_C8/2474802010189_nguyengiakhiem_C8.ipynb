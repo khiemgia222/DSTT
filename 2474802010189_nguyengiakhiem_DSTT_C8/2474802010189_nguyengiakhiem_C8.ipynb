{
  "nbformat": 4,
  "nbformat_minor": 0,
  "metadata": {
    "colab": {
      "provenance": []
    },
    "kernelspec": {
      "name": "python3",
      "display_name": "Python 3"
    },
    "language_info": {
      "name": "python"
    }
  },
  "cells": [
    {
      "cell_type": "markdown",
      "source": [
        "#BÀI TẬP TRÊN LỚP"
      ],
      "metadata": {
        "id": "QfEPZyVRifds"
      }
    },
    {
      "cell_type": "markdown",
      "source": [
        "Bài 1:"
      ],
      "metadata": {
        "id": "ObxU5tEQij0O"
      }
    },
    {
      "cell_type": "code",
      "source": [
        "import numpy as np\n",
        "u = np.array([2,-1,5,0])\n",
        "v = np.array([4,3,1,-1])\n",
        "w = np.array([-6,2,0,3])\n",
        "x = 2*u-(v+3*w)\n",
        "print ('Câu a:',x)\n",
        "x = 0.5*(2*u-v-3*w)\n",
        "print('Câu b:',x)"
      ],
      "metadata": {
        "colab": {
          "base_uri": "https://localhost:8080/"
        },
        "id": "oFK-a_n2ijIM",
        "outputId": "227aad4f-9650-4ba7-b033-a8fdad8b8bca"
      },
      "execution_count": null,
      "outputs": [
        {
          "output_type": "stream",
          "name": "stdout",
          "text": [
            "Câu a: [ 18 -11   9  -8]\n",
            "Câu b: [ 9.  -5.5  4.5 -4. ]\n"
          ]
        }
      ]
    },
    {
      "cell_type": "markdown",
      "source": [
        "Bài 2:"
      ],
      "metadata": {
        "id": "7FjyO2A7jEVt"
      }
    },
    {
      "cell_type": "code",
      "source": [
        "from numpy import linalg\n",
        "A = np.matrix([[0, -1, 3],[1, 1, 1],[4, 2, 2]])\n",
        "B = np.array([-1, -2, -2])\n",
        "X = np.linalg.solve(A, B)\n",
        "print (X)\n"
      ],
      "metadata": {
        "colab": {
          "base_uri": "https://localhost:8080/"
        },
        "id": "6AzGLeZujFwY",
        "outputId": "746e1e9d-52c8-47d4-89eb-218eee77c80e"
      },
      "execution_count": null,
      "outputs": [
        {
          "output_type": "stream",
          "name": "stdout",
          "text": [
            "[ 1. -2. -1.]\n"
          ]
        }
      ]
    },
    {
      "cell_type": "markdown",
      "source": [
        "Bài 3:"
      ],
      "metadata": {
        "id": "uSdjbgoRjfIK"
      }
    },
    {
      "cell_type": "code",
      "source": [
        "import numpy as np\n",
        "A = np.matrix([[1,0],[0,0]])\n",
        "B = np.matrix([[0,0],[0,1]])\n",
        "from numpy import linalg as LA\n",
        "#LA.inv(A):LinAlgError: Singular matrix\n",
        "#LA.inv(B):LinAlgError: Singular matrix\n",
        "print(LA.inv(A+B))\n",
        "print(LA.det(A))\n",
        "print(LA.det(B))\n",
        "print(LA.det(A+B))"
      ],
      "metadata": {
        "colab": {
          "base_uri": "https://localhost:8080/"
        },
        "id": "Y3xOg5hfjgYc",
        "outputId": "b4b9b001-9960-4c5d-f3ef-ee3d40b1c939"
      },
      "execution_count": 13,
      "outputs": [
        {
          "output_type": "stream",
          "name": "stdout",
          "text": [
            "[[1. 0.]\n",
            " [0. 1.]]\n",
            "0.0\n",
            "0.0\n",
            "1.0\n"
          ]
        }
      ]
    },
    {
      "cell_type": "markdown",
      "source": [
        "Bài 4:"
      ],
      "metadata": {
        "id": "qFxXdkw3mRQe"
      }
    },
    {
      "cell_type": "code",
      "source": [
        "import sympy as sp\n",
        "from sympy import symbols\n",
        "x, y = sp.symbols('x y') # khai báo 2 biến x và y\n",
        "A = sp.Matrix([[x, y],[y, x]]) # lưu ý: kiểu ma trận của sympy là ‘Matrix’ (viết hoa)\n",
        "x1, y1 = sp.symbols('x1 y1')\n",
        "A1 = sp.Matrix([[x1, y1],[y1, x1]])\n",
        "x2, y2 = sp.symbols('x2 y2')\n",
        "A2 = sp.Matrix([[x2, y2],[y2, x2]])\n",
        "print(A1.T)\n",
        "print((A1+A2).T)\n",
        "print(((A1+A2).T).equals(A1+A2))\n",
        "c = sp.symbols('c')\n",
        "print(c*A)\n",
        "((c*A).T).equals(c*A)"
      ],
      "metadata": {
        "colab": {
          "base_uri": "https://localhost:8080/"
        },
        "id": "XjbfpoHgmS00",
        "outputId": "cf2754e0-4d5b-4c9d-8231-bf21a212b03d"
      },
      "execution_count": 22,
      "outputs": [
        {
          "output_type": "stream",
          "name": "stdout",
          "text": [
            "Matrix([[x1, y1], [y1, x1]])\n",
            "Matrix([[x1 + x2, y1 + y2], [y1 + y2, x1 + x2]])\n",
            "True\n",
            "Matrix([[c*x, c*y], [c*y, c*x]])\n"
          ]
        },
        {
          "output_type": "execute_result",
          "data": {
            "text/plain": [
              "True"
            ]
          },
          "metadata": {},
          "execution_count": 22
        }
      ]
    },
    {
      "cell_type": "markdown",
      "source": [
        "Bài 5a:"
      ],
      "metadata": {
        "id": "R5V2NRRHnl5M"
      }
    },
    {
      "cell_type": "code",
      "source": [
        "import numpy as np\n",
        "\n",
        "# Các vector cơ sở\n",
        "v1 = np.array([1, 2, 3])\n",
        "v2 = np.array([0, 1, 2])\n",
        "v3 = np.array([-1, 0, 1])\n",
        "\n",
        "# Tạo ma trận hệ số\n",
        "A = np.column_stack((v1, v2, v3))\n",
        "\n",
        "# ----------- Trường hợp a -----------\n",
        "w1 = np.array([1, 1, 1])\n",
        "\n",
        "# Giải hệ A * [c1, c2, c3] = w1\n",
        "try:\n",
        "    solution1 = np.linalg.solve(A, w1)\n",
        "    print(\"Vector w1 = (1,1,1) là tổ hợp tuyến tính của v1, v2, v3\")\n",
        "    print(\"Hệ số c1, c2, c3:\", solution1)\n",
        "except AttributeError:\n",
        "    print(\" Vector w1 = (1,1,1) KHÔNG là tổ hợp tuyến tính\")\n",
        "\n",
        "# ----------- Trường hợp b -----------\n",
        "w2 = np.array([1, -2, 2])\n",
        "\n",
        "# Giải hệ A * [c1, c2, c3] = w2\n",
        "try:\n",
        "    solution2 = np.linalg.sovle(A, w2)\n",
        "    print(\"Vector w2 = (1,-2,2) là tổ hợp tuyến tính của v1, v2, v3\")\n",
        "    print(\"Hệ số c1, c2, c3:\", solution2)\n",
        "except AttributeError:\n",
        "    print(\" Vector w2 = (1,-2,2) KHÔNG là tổ hợp tuyến tính\")\n"
      ],
      "metadata": {
        "colab": {
          "base_uri": "https://localhost:8080/"
        },
        "id": "YvWZALSgnm_C",
        "outputId": "5dd84e35-ea8a-421f-df44-a62fb888f39e"
      },
      "execution_count": 31,
      "outputs": [
        {
          "output_type": "stream",
          "name": "stdout",
          "text": [
            "Vector w1 = (1,1,1) là tổ hợp tuyến tính của v1, v2, v3\n",
            "Hệ số c1, c2, c3: [ 5.00000000e-01 -1.66533454e-16 -5.00000000e-01]\n",
            " Vector w2 = (1,-2,2) KHÔNG là tổ hợp tuyến tính\n"
          ]
        }
      ]
    },
    {
      "cell_type": "markdown",
      "source": [
        "Bài 6:"
      ],
      "metadata": {
        "id": "52mW12NkpIfu"
      }
    },
    {
      "cell_type": "code",
      "source": [
        "import sympy as sp\n",
        "c1, c2, c3 = sp.symbols('c1 c2 c3')\n",
        "sp.solve([c1-2*c3, 2*c1+c2, 3*c1+2*c2+c3], [c1, c2, c3])"
      ],
      "metadata": {
        "colab": {
          "base_uri": "https://localhost:8080/"
        },
        "id": "VfHhKEOcpKeT",
        "outputId": "af7403cd-47c8-425f-d671-0744e9e6f521"
      },
      "execution_count": 32,
      "outputs": [
        {
          "output_type": "execute_result",
          "data": {
            "text/plain": [
              "{c1: 0, c2: 0, c3: 0}"
            ]
          },
          "metadata": {},
          "execution_count": 32
        }
      ]
    },
    {
      "cell_type": "markdown",
      "source": [
        "Bài 7:\n"
      ],
      "metadata": {
        "id": "_pBRpLjarBnd"
      }
    },
    {
      "cell_type": "code",
      "source": [
        "import sympy as sp\n",
        "c1, c2 = sp.symbols('c1 c2')\n",
        "u1, u2 = sp.symbols('u1 u2')\n",
        "print(sp.solve([c1+c2-u1,c1-c2-u2]))\n",
        "u1 = 0\n",
        "u2 = 0\n",
        "sp.solve([c1+c2-u1,c1-c2-u2])"
      ],
      "metadata": {
        "colab": {
          "base_uri": "https://localhost:8080/"
        },
        "id": "7MpsQGV3rEqg",
        "outputId": "cf1f4b41-5b9e-4baa-afd9-23ea9326aec6"
      },
      "execution_count": 35,
      "outputs": [
        {
          "output_type": "stream",
          "name": "stdout",
          "text": [
            "{c1: u1/2 + u2/2, c2: u1/2 - u2/2}\n"
          ]
        },
        {
          "output_type": "execute_result",
          "data": {
            "text/plain": [
              "{c1: 0, c2: 0}"
            ]
          },
          "metadata": {},
          "execution_count": 35
        }
      ]
    },
    {
      "cell_type": "markdown",
      "source": [
        "Bài 2.2.a:\n"
      ],
      "metadata": {
        "id": "x56LDB0Qrm-l"
      }
    },
    {
      "cell_type": "code",
      "source": [
        "import numpy as np\n",
        "P = np.array([[0,0,3,3,1,1,2,2,1,1],[0,5,5,4,4,3,3,2,2,0]])\n",
        "vecdelta = np.array([4,2])\n",
        "P_caua = (P.T + vecdelta).T # lệnh này sinh viên nên tách làm từng lệnh để hiểu\n",
        "print (P_caua)"
      ],
      "metadata": {
        "colab": {
          "base_uri": "https://localhost:8080/"
        },
        "id": "i8cVRSOuro-y",
        "outputId": "7c994cab-0174-4ecb-c5d6-239ea1af0f84"
      },
      "execution_count": 36,
      "outputs": [
        {
          "output_type": "stream",
          "name": "stdout",
          "text": [
            "[[4 4 7 7 5 5 6 6 5 5]\n",
            " [2 7 7 6 6 5 5 4 4 2]]\n"
          ]
        }
      ]
    },
    {
      "cell_type": "markdown",
      "source": [
        "Bài 2.2.b:"
      ],
      "metadata": {
        "id": "8mo6SxBBr2Si"
      }
    },
    {
      "cell_type": "code",
      "source": [
        "import numpy as np\n",
        "P = np.array([[0,0,3,3,1,1,2,2,1,1],[0,5,5,4,4,3,3,2,2,0]])\n",
        "vecdelta = np.array([4,-2])\n",
        "matran_biendoi = np.array([[1.0, 0.0],[0.0, 2.0]])\n",
        "P_caub = (P.T @ matran_biendoi + vecdelta).T\n",
        "print (P_caub)"
      ],
      "metadata": {
        "colab": {
          "base_uri": "https://localhost:8080/"
        },
        "id": "fcTSftCNr4LZ",
        "outputId": "d4421232-286d-4d00-a1d0-f771666de75c"
      },
      "execution_count": 37,
      "outputs": [
        {
          "output_type": "stream",
          "name": "stdout",
          "text": [
            "[[ 4.  4.  7.  7.  5.  5.  6.  6.  5.  5.]\n",
            " [-2.  8.  8.  6.  6.  4.  4.  2.  2. -2.]]\n"
          ]
        }
      ]
    },
    {
      "cell_type": "markdown",
      "source": [
        "Bài 2.2.c:"
      ],
      "metadata": {
        "id": "waXQlJbOslUs"
      }
    },
    {
      "cell_type": "code",
      "source": [
        "import numpy as np\n",
        "\n",
        "# Tọa độ điểm gốc\n",
        "P = np.array([[0,0,3,3,1,1,2,2,1,1],[0,5,5,4,4,3,3,2,2,0]])\n",
        "\n",
        "# Ma trận đối xứng trục y\n",
        "M = np.array([[-1, 0],\n",
        "              [0, 1]])\n",
        "\n",
        "# Vector tịnh tiến\n",
        "T = np.array([5, 1])  # thay a, b bằng giá trị cụ thể\n",
        "\n",
        "# Áp dụng biến đổi\n",
        "P_new =  P.T @ M + T\n",
        "print(\"Tọa độ mới sau biến đổi:\", P_new)\n"
      ],
      "metadata": {
        "colab": {
          "base_uri": "https://localhost:8080/"
        },
        "id": "tADTf6AgsnD3",
        "outputId": "5e61861c-a668-4a96-fbc5-b1cce942e9f8"
      },
      "execution_count": 40,
      "outputs": [
        {
          "output_type": "stream",
          "name": "stdout",
          "text": [
            "Tọa độ mới sau biến đổi: [[5 1]\n",
            " [5 6]\n",
            " [2 6]\n",
            " [2 5]\n",
            " [4 5]\n",
            " [4 4]\n",
            " [3 4]\n",
            " [3 3]\n",
            " [4 3]\n",
            " [4 1]]\n"
          ]
        }
      ]
    },
    {
      "cell_type": "markdown",
      "source": [
        "Bài 2.2.d:"
      ],
      "metadata": {
        "id": "RoKEQlwRtqVr"
      }
    },
    {
      "cell_type": "code",
      "source": [
        "import numpy as np\n",
        "\n",
        "# Tọa độ điểm gốc\n",
        "P = np.array([[0,0,3,3,1,1,2,2,1,1],[0,5,5,4,4,3,3,2,2,0]])\n",
        "\n",
        "# Ma trận shearing\n",
        "p = 0.5  # nhập giá trị p\n",
        "q = 0  # nhập giá trị q\n",
        "S = np.array([[1, p],\n",
        "              [q, 1]])\n",
        "\n",
        "# Vector tịnh tiến\n",
        "T = np.array([3, 1])  # thay a, b bằng giá trị cụ thể\n",
        "\n",
        "# Áp dụng biến đổi\n",
        "P_new =  P.T @ S + T\n",
        "print(\"Tọa độ mới sau biến đổi:\", P_new)\n"
      ],
      "metadata": {
        "colab": {
          "base_uri": "https://localhost:8080/"
        },
        "id": "Ll5TxPCVtsa8",
        "outputId": "7b85ea2a-edb9-4588-d4c9-c76316550d08"
      },
      "execution_count": 41,
      "outputs": [
        {
          "output_type": "stream",
          "name": "stdout",
          "text": [
            "Tọa độ mới sau biến đổi: [[3.  1. ]\n",
            " [3.  6. ]\n",
            " [6.  7.5]\n",
            " [6.  6.5]\n",
            " [4.  5.5]\n",
            " [4.  4.5]\n",
            " [5.  5. ]\n",
            " [5.  4. ]\n",
            " [4.  3.5]\n",
            " [4.  1.5]]\n"
          ]
        }
      ]
    },
    {
      "cell_type": "markdown",
      "source": [
        "Phần 3.2:"
      ],
      "metadata": {
        "id": "gy7Z7vVru3oN"
      }
    },
    {
      "cell_type": "code",
      "source": [
        "import numpy as np\n",
        "\n",
        "# Cơ sở của R^2\n",
        "u1 = np.array([1, 2])\n",
        "u2 = np.array([3, 5])\n",
        "\n",
        "# Ảnh của u1, u2 trong R^3\n",
        "f_u1 = np.array([1, 1, 2])\n",
        "f_u2 = np.array([4, 2, 1])\n",
        "\n",
        "# Vector cần tìm tổ hợp\n",
        "u3 = np.array([4, 5])\n",
        "\n",
        "# Giải hệ [u1 u2] * [alpha, beta] = u3\n",
        "A = np.column_stack((u1, u2))\n",
        "sol = np.linalg.solve(A, u3)\n",
        "\n",
        "alpha, beta = sol\n",
        "print(f\"Nghiệm hệ: alpha = {alpha}, beta = {beta}\")\n",
        "\n",
        "# Tính f(u3)\n",
        "f_u3 = alpha * f_u1 + beta * f_u2\n",
        "print(\"f(u3) =\", f_u3)\n"
      ],
      "metadata": {
        "colab": {
          "base_uri": "https://localhost:8080/"
        },
        "id": "F9lcI52Bu59P",
        "outputId": "4809aa3c-682d-429e-a66f-9d6a29011c5a"
      },
      "execution_count": 42,
      "outputs": [
        {
          "output_type": "stream",
          "name": "stdout",
          "text": [
            "Nghiệm hệ: alpha = -5.0, beta = 3.0\n",
            "f(u3) = [ 7.  1. -7.]\n"
          ]
        }
      ]
    },
    {
      "cell_type": "markdown",
      "source": [
        "Phần 3.3:"
      ],
      "metadata": {
        "id": "XrWllGeFvRTZ"
      }
    },
    {
      "cell_type": "code",
      "source": [
        "import sympy as sp\n",
        "import numpy as np\n",
        "\n",
        "# Khai báo các biến\n",
        "a, b = sp.symbols('a b')\n",
        "x, y = sp.symbols('x y')\n",
        "\n",
        "# Hệ phương trình tìm a, b\n",
        "eq1 = a + 3*b - x\n",
        "eq2 = 2*a + 5*b - y\n",
        "\n",
        "# Giải hệ\n",
        "sol = sp.solve([eq1, eq2], [a, b])\n",
        "alpha = sol[a]\n",
        "beta = sol[b]\n",
        "print(f\"alpha = {alpha}, beta = {beta}\")\n",
        "\n",
        "# Ảnh của u1, u2\n",
        "fu1 = np.array([1,1,2])\n",
        "fu2 = np.array([4,2,1])\n",
        "\n",
        "# Tìm f(x,y)\n",
        "f_xy = alpha * fu1 + beta * fu2\n",
        "print(\"f(x, y) =\", f_xy,)\n"
      ],
      "metadata": {
        "colab": {
          "base_uri": "https://localhost:8080/"
        },
        "id": "C0cVHoilvS6M",
        "outputId": "8e9cb0c9-3fae-4985-9cbf-60037b52eece"
      },
      "execution_count": 45,
      "outputs": [
        {
          "output_type": "stream",
          "name": "stdout",
          "text": [
            "alpha = -5*x + 3*y, beta = 2*x - y\n",
            "f(x, y) = [3*x - y -x + y -8*x + 5*y]\n"
          ]
        }
      ]
    },
    {
      "cell_type": "markdown",
      "source": [
        "Phần 3.4:"
      ],
      "metadata": {
        "id": "rEYYN20ZwL9e"
      }
    },
    {
      "cell_type": "code",
      "source": [
        "import numpy as np\n",
        "x1, x2, x3 = sp.symbols('x1 x2 x3')\n",
        "x3 = 1\n",
        "sp.solve([x1+x2-x3, 2*x1+3*x2-x3, 3*x1+5*x2-x3],[x1, x2, x3])"
      ],
      "metadata": {
        "colab": {
          "base_uri": "https://localhost:8080/"
        },
        "id": "2HghzqnSwNRb",
        "outputId": "7b16c9f2-13fa-4268-ffea-aba208729f46"
      },
      "execution_count": 47,
      "outputs": [
        {
          "output_type": "execute_result",
          "data": {
            "text/plain": [
              "{x1: 2, x2: -1}"
            ]
          },
          "metadata": {},
          "execution_count": 47
        }
      ]
    },
    {
      "cell_type": "markdown",
      "source": [
        "Phần 3.6:"
      ],
      "metadata": {
        "id": "_MJbj6EDxXGK"
      }
    },
    {
      "cell_type": "code",
      "source": [
        "import numpy as np\n",
        "\n",
        "# Cơ sở B và F\n",
        "u1 = np.array([-1, 1])\n",
        "u2 = np.array([1, 0])\n",
        "v1 = np.array([1, 2])\n",
        "v2 = np.array([1, 3])\n",
        "\n",
        "# Ảnh của u1, u2 qua f\n",
        "def f(x, y):\n",
        "    return np.array([x - y, x])\n",
        "\n",
        "f_u1 = f(*u1)\n",
        "f_u2 = f(*u2)\n",
        "\n",
        "# Viết f(u1) = a1*v1 + b1*v2\n",
        "V = np.column_stack((v1, v2))  # Ma trận [v1 v2]\n",
        "coeffs1 = np.linalg.solve(V, f_u1)\n",
        "\n",
        "# Viết f(u2) = a2*v1 + b2*v2\n",
        "coeffs2 = np.linalg.solve(V, f_u2)\n",
        "\n",
        "# Kết hợp thành ma trận ánh xạ\n",
        "A = np.column_stack((coeffs1, coeffs2))\n",
        "\n",
        "print(\"Hệ số f(u1) =\", coeffs1)\n",
        "print(\"Hệ số f(u2) =\", coeffs2)\n",
        "print(\"Ma trận ánh xạ A =\\n\", A)\n"
      ],
      "metadata": {
        "colab": {
          "base_uri": "https://localhost:8080/"
        },
        "id": "MW9zj7WmxYqG",
        "outputId": "1da5c515-393b-4dee-dc8e-052acf846f57"
      },
      "execution_count": 48,
      "outputs": [
        {
          "output_type": "stream",
          "name": "stdout",
          "text": [
            "Hệ số f(u1) = [-5.  3.]\n",
            "Hệ số f(u2) = [ 2. -1.]\n",
            "Ma trận ánh xạ A =\n",
            " [[-5.  2.]\n",
            " [ 3. -1.]]\n"
          ]
        }
      ]
    },
    {
      "cell_type": "markdown",
      "source": [
        "Phần 4:"
      ],
      "metadata": {
        "id": "jXyU9CA_yFSb"
      }
    },
    {
      "cell_type": "code",
      "source": [
        "import numpy as np\n",
        "\n",
        "# Hệ số phương trình gốc\n",
        "a, b, c = 5, -6, 5\n",
        "d, e, f = 14*np.sqrt(2), -2*np.sqrt(2), 18\n",
        "\n",
        "# Góc quay\n",
        "theta = np.pi / 4\n",
        "cos_t = np.cos(theta)\n",
        "sin_t = np.sin(theta)\n",
        "\n",
        "# Ma trận quay\n",
        "R = np.array([[cos_t, -sin_t],\n",
        "              [sin_t,  cos_t]])\n",
        "\n",
        "# Hàm đổi tọa độ\n",
        "def rotate(xp, yp):\n",
        "    x, y = R @ np.array([xp, yp])\n",
        "    return x, y\n",
        "\n",
        "# Kiểm tra với một điểm\n",
        "x_prime, y_prime = -3, -2\n",
        "x, y = rotate(x_prime, y_prime)\n",
        "print(f\"({x_prime}, {y_prime}) -> ({x:.2f}, {y:.2f})\")\n",
        "\n",
        "# Vẽ ellipse nếu cần\n",
        "import matplotlib.pyplot as plt\n",
        "\n",
        "t = np.linspace(0, 2*np.pi, 100)\n",
        "x_ellipse = -3 + 2*np.cos(t)  # Tọa độ x' trong hệ mới\n",
        "y_ellipse = 1 + 1*np.sin(t)  # Tọa độ y' trong hệ mới\n",
        "\n",
        "# Quay về hệ gốc\n",
        "coords = np.array([x_ellipse, y_ellipse])\n",
        "x_old, y_old = R @ coords\n",
        "\n",
        "plt.plot(x_old, y_old, label=\"Ellipse (hệ gốc)\")\n",
        "plt.gca().set_aspect('equal')\n",
        "plt.grid()\n",
        "plt.legend()\n",
        "plt.show()\n"
      ],
      "metadata": {
        "colab": {
          "base_uri": "https://localhost:8080/",
          "height": 448
        },
        "id": "OANIwZvsyGk0",
        "outputId": "8078da10-1407-4cc9-f32b-9fa2e5f3affd"
      },
      "execution_count": 49,
      "outputs": [
        {
          "output_type": "stream",
          "name": "stdout",
          "text": [
            "(-3, -2) -> (-0.71, -3.54)\n"
          ]
        },
        {
          "output_type": "display_data",
          "data": {
            "text/plain": [
              "<Figure size 640x480 with 1 Axes>"
            ],
            "image/png": "[encoded data removed]"
          },
          "metadata": {}
        }
      ]
    },
    {
      "cell_type": "markdown",
      "source": [
        "# BÀI TẬP CHƯƠNG 8"
      ],
      "metadata": {
        "id": "WpTDSqg-yXrd"
      }
    },
    {
      "cell_type": "markdown",
      "source": [
        "Bài 1:"
      ],
      "metadata": {
        "id": "5JZBY_h2ycFB"
      }
    },
    {
      "cell_type": "code",
      "source": [
        "import sympy as sp\n",
        "\n",
        "# Khai báo biến\n",
        "x, y, z, c = sp.symbols('x y z c')\n",
        "\n",
        "# Định nghĩa ánh xạ g(x, y, z)\n",
        "def g(vec):\n",
        "    x, y, z = vec\n",
        "    return sp.Matrix([x + y, z + 2, 0])\n",
        "\n",
        "# Kiểm tra điều kiện g(0) = 0\n",
        "g0 = g(sp.Matrix([0, 0, 0]))\n",
        "print(\"g(0,0,0) =\", g0)\n",
        "\n",
        "# Kiểm tra tính cộng: g(u + v) = g(u) + g(v)\n",
        "u = sp.Matrix([x, y, z])\n",
        "v = sp.Matrix([1, 2, 3])\n",
        "left_add = g(u + v)\n",
        "right_add = g(u) + g(v)\n",
        "print(\"g(u + v) =\", left_add)\n",
        "print(\"g(u) + g(v) =\", right_add)\n",
        "print(\"g(u + v) == g(u) + g(v)?\", sp.simplify(left_add - right_add) == sp.zeros(3, 1))\n",
        "\n",
        "# Kiểm tra tính nhân vô hướng: g(c * u) = c * g(u)\n",
        "left_scalar = g(c * u)\n",
        "right_scalar = c * g(u)\n",
        "print(\"g(c * u) =\", left_scalar)\n",
        "print(\"c * g(u) =\", right_scalar)\n",
        "print(\"g(c * u) == c * g(u)?\", sp.simplify(left_scalar - right_scalar) == sp.zeros(3, 1))\n"
      ],
      "metadata": {
        "colab": {
          "base_uri": "https://localhost:8080/"
        },
        "id": "0BTS8IA3ydwO",
        "outputId": "31a4c89c-a181-4af6-88d0-7086cbade45c"
      },
      "execution_count": 50,
      "outputs": [
        {
          "output_type": "stream",
          "name": "stdout",
          "text": [
            "g(0,0,0) = Matrix([[0], [2], [0]])\n",
            "g(u + v) = Matrix([[x + y + 3], [z + 5], [0]])\n",
            "g(u) + g(v) = Matrix([[x + y + 3], [z + 7], [0]])\n",
            "g(u + v) == g(u) + g(v)? False\n",
            "g(c * u) = Matrix([[c*x + c*y], [c*z + 2], [0]])\n",
            "c * g(u) = Matrix([[c*(x + y)], [c*(z + 2)], [0]])\n",
            "g(c * u) == c * g(u)? False\n"
          ]
        }
      ]
    },
    {
      "cell_type": "markdown",
      "source": [
        "Bài 2:"
      ],
      "metadata": {
        "id": "jUZiqbEVze2N"
      }
    },
    {
      "cell_type": "code",
      "source": [
        "import numpy as np\n",
        "import matplotlib.pyplot as plt\n",
        "\n",
        "# Ma trận biến đổi\n",
        "A = np.array([[0, 1],\n",
        "              [1, -1]])\n",
        "\n",
        "# Tập các điểm ban đầu (ví dụ 4 điểm của hình vuông)\n",
        "F = np.array([[0, 0],\n",
        "              [1, 0],\n",
        "              [1, 1],\n",
        "              [0, 1],\n",
        "              [0, 0]])  # nối lại để vẽ kín\n",
        "\n",
        "# Biến đổi tập điểm\n",
        "F_transformed = F @ A.T\n",
        "\n",
        "# Vẽ hình ban đầu và hình sau biến đổi\n",
        "plt.figure(figsize=(6,6))\n",
        "plt.plot(F[:,0], F[:,1], 'bo-', label='Hình ban đầu')\n",
        "plt.plot(F_transformed[:,0], F_transformed[:,1], 'go-', label='Hình sau biến đổi')\n",
        "plt.axhline(0, color='gray', linewidth=0.5)\n",
        "plt.axvline(0, color='gray', linewidth=0.5)\n",
        "plt.legend()\n",
        "plt.title('Biến đổi tuyến tính: (x, y) → (y, x-y)')\n",
        "plt.grid(True)\n",
        "plt.axis('equal')\n",
        "plt.show()\n"
      ],
      "metadata": {
        "colab": {
          "base_uri": "https://localhost:8080/",
          "height": 547
        },
        "id": "sEZuFtNmzgcZ",
        "outputId": "8aaf0ca0-d27d-441e-e876-c2ff0c8d4231"
      },
      "execution_count": 52,
      "outputs": [
        {
          "output_type": "display_data",
          "data": {
            "text/plain": [
              "<Figure size 600x600 with 1 Axes>"
            ],
            "image/png": "[encoded data removed]"
          },
          "metadata": {}
        }
      ]
    },
    {
      "cell_type": "markdown",
      "source": [
        "Bài 3:"
      ],
      "metadata": {
        "id": "m28DXq16zzJm"
      }
    },
    {
      "cell_type": "code",
      "source": [
        "from sympy import symbols\n",
        "\n",
        "# Định nghĩa các biến\n",
        "u1, u2, v1, v2, c = symbols('u1 u2 v1 v2 c')\n",
        "\n",
        "# Định nghĩa ánh xạ T\n",
        "def T(x, y):\n",
        "    return (x - y, x + 2*y)\n",
        "\n",
        "# 1. Chứng minh tính chất cộng: T(u + v) = T(u) + T(v)\n",
        "# Vector u + v\n",
        "u_plus_v_1 = u1 + v1\n",
        "u_plus_v_2 = u2 + v2\n",
        "\n",
        "# T(u + v)\n",
        "T_u_plus_v = T(u_plus_v_1, u_plus_v_2)\n",
        "print(f\"T(u + v) = {T_u_plus_v}\")\n",
        "\n",
        "# T(u)\n",
        "T_u = T(u1, u2)\n",
        "print(f\"T(u) = {T_u}\")\n",
        "\n",
        "# T(v)\n",
        "T_v = T(v1, v2)\n",
        "print(f\"T(v) = {T_v}\")\n",
        "\n",
        "# T(u) + T(v)\n",
        "T_u_plus_T_v = (T_u[0] + T_v[0], T_u[1] + T_v[1])\n",
        "print(f\"T(u) + T(v) = {T_u_plus_T_v}\")\n",
        "\n",
        "# So sánh T(u + v) và T(u) + T(v)\n",
        "print(f\"T(u + v) == T(u) + T(v): {T_u_plus_v == T_u_plus_T_v}\")\n",
        "\n",
        "print(\"-\" * 30)\n",
        "\n",
        "# 2. Chứng minh tính chất vô hướng: T(c * u) = c * T(u)\n",
        "# Vector c * u\n",
        "c_u_1 = c * u1\n",
        "c_u_2 = c * u2\n",
        "\n",
        "# T(c * u)\n",
        "T_c_u = T(c_u_1, c_u_2)\n",
        "print(f\"T(c * u) = {T_c_u}\")\n",
        "\n",
        "# c * T(u)\n",
        "c_T_u = (c * T_u[0], c * T_u[1])\n",
        "print(f\"c * T(u) = {c_T_u}\")\n",
        "\n",
        "# So sánh T(c * u) và c * T(u)\n",
        "print(f\"T(c * u) == c * T(u): {T_c_u == c_T_u}\")"
      ],
      "metadata": {
        "colab": {
          "base_uri": "https://localhost:8080/"
        },
        "id": "8G0P4Gfqz0ar",
        "outputId": "a6644001-0f8f-4335-b4dd-70712b685a6b"
      },
      "execution_count": 53,
      "outputs": [
        {
          "output_type": "stream",
          "name": "stdout",
          "text": [
            "T(u + v) = (u1 - u2 + v1 - v2, u1 + 2*u2 + v1 + 2*v2)\n",
            "T(u) = (u1 - u2, u1 + 2*u2)\n",
            "T(v) = (v1 - v2, v1 + 2*v2)\n",
            "T(u) + T(v) = (u1 - u2 + v1 - v2, u1 + 2*u2 + v1 + 2*v2)\n",
            "T(u + v) == T(u) + T(v): True\n",
            "------------------------------\n",
            "T(c * u) = (c*u1 - c*u2, c*u1 + 2*c*u2)\n",
            "c * T(u) = (c*(u1 - u2), c*(u1 + 2*u2))\n",
            "T(c * u) == c * T(u): False\n"
          ]
        }
      ]
    }
  ]
}