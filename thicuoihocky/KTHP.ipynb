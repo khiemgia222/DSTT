{
  "nbformat": 4,
  "nbformat_minor": 0,
  "metadata": {
    "colab": {
      "provenance": []
    },
    "kernelspec": {
      "name": "python3",
      "display_name": "Python 3"
    },
    "language_info": {
      "name": "python"
    }
  },
  "cells": [
    {
      "cell_type": "markdown",
      "source": [
        "# Bài 1:\n"
      ],
      "metadata": {
        "id": "LlN_Jq0Akcgp"
      }
    },
    {
      "cell_type": "code",
      "source": [
        "import numpy as np\n",
        "from numpy.linalg import norm\n",
        "from math import acos, degrees\n",
        "A = np.array([3,-2,1,4])\n",
        "B = np.array([-1,5,0,2])\n",
        "C = np.array([[2,-1,3],[1,4,-2],[0,2,5]])\n",
        "tong = A+B\n",
        "tich = 2*A + 3*B\n",
        "TMT = np.dot(A, B)\n",
        "goc = TMT / (norm(A) * norm(B))\n",
        "angle_deg = degrees(acos(goc))\n",
        "MTC = np.dot(C,C.T)\n",
        "print(' Câu a')\n",
        "print('Tổng:',tong)\n",
        "print('Tích:',tich)\n",
        "print('\\n câu b')\n",
        "print('A.B:',TMT)\n",
        "print(\"Góc giữa A và B =\", round(angle_deg, 3), \"độ\")\n",
        "print('\\n câu c')\n",
        "print('tích ma trận CCT:',MTC)"
      ],
      "metadata": {
        "colab": {
          "base_uri": "https://localhost:8080/"
        },
        "id": "bHUCQzyYkpsp",
        "outputId": "2e0b0913-2974-422c-ab1a-f269979ba48a"
      },
      "execution_count": 4,
      "outputs": [
        {
          "output_type": "stream",
          "name": "stdout",
          "text": [
            " Câu a\n",
            "Tổng: [2 3 1 6]\n",
            "Tích: [ 3 11  2 14]\n",
            "\n",
            " câu b\n",
            "A.B: -5\n",
            "Góc giữa A và B = 99.594 độ\n",
            "\n",
            " câu c\n",
            "tích ma trận CCT: [[14 -8 13]\n",
            " [-8 21 -2]\n",
            " [13 -2 29]]\n"
          ]
        }
      ]
    },
    {
      "cell_type": "markdown",
      "source": [
        "#Bài 2:"
      ],
      "metadata": {
        "id": "oWee0KWZnhXa"
      }
    },
    {
      "cell_type": "code",
      "source": [
        "import numpy as np\n",
        "\n",
        "# Khởi tạo ma trận M và N\n",
        "M = np.array([\n",
        "    [2, -1, 3, 0],\n",
        "    [1, 4, -2, 5],\n",
        "    [0, 2, 6, -3],\n",
        "    [-1, 0, 1, 4]\n",
        "])\n",
        "\n",
        "N = np.array([\n",
        "    [1, 3, -2, 0],\n",
        "    [4, -1, 5, 2],\n",
        "    [0, 2, 3, -1],\n",
        "    [-3, 1, 0, 4]\n",
        "])\n",
        "\n",
        "# a) Tính tích M x N\n",
        "product = np.dot(M, N)\n",
        "print(\"a) M x N =\\n\", product)\n",
        "\n",
        "# b) Tính định thức của M\n",
        "try:\n",
        "    det_M = np.linalg.det(M)\n",
        "    print(\"\\nb) Định thức của M =\", round(det_M, 3))\n",
        "except np.linalg.LinAlgError:\n",
        "    print(\"\\nb) Không thể tính định thức của M (không phải ma trận vuông)\")\n",
        "\n",
        "# c) Tính hạng của N\n",
        "rank_N = np.linalg.matrix_rank(N)\n",
        "print(\"\\nc) Hạng của N =\", rank_N)\n"
      ],
      "metadata": {
        "colab": {
          "base_uri": "https://localhost:8080/"
        },
        "id": "6VKb8pFDnjtl",
        "outputId": "7fa8b955-0f3d-444a-9625-17a7ee5ace8d"
      },
      "execution_count": 5,
      "outputs": [
        {
          "output_type": "stream",
          "name": "stdout",
          "text": [
            "a) M x N =\n",
            " [[ -2  13   0  -5]\n",
            " [  2   0  12  30]\n",
            " [ 17   7  28 -14]\n",
            " [-13   3   5  15]]\n",
            "\n",
            "b) Định thức của M = 409.0\n",
            "\n",
            "c) Hạng của N = 4\n"
          ]
        }
      ]
    },
    {
      "cell_type": "markdown",
      "source": [
        "# BÀI 3"
      ],
      "metadata": {
        "id": "I7vPdRson-9b"
      }
    },
    {
      "cell_type": "code",
      "source": [
        "import numpy as np\n",
        "\n",
        "# Ma trận P và vector b\n",
        "P = np.array([\n",
        "    [3, -1, 0, 2],\n",
        "    [1, 4, -2, 0],\n",
        "    [0, 1, 5, -1],\n",
        "    [2, 0, 1, 3]\n",
        "], dtype=float)\n",
        "\n",
        "b = np.array([6, 8, 3, 7], dtype=float)\n",
        "\n",
        "# a) Tính ma trận nghịch đảo\n",
        "try:\n",
        "    P_inv = np.linalg.inv(P)\n",
        "    print(\"a) Ma trận nghịch đảo của P:\")\n",
        "    print(np.round(P_inv, 3))\n",
        "except np.linalg.LinAlgError:\n",
        "    print(\"a) Ma trận P không khả nghịch (định thức bằng 0).\")\n",
        "\n",
        "# b) Giải hệ phương trình P @ x = b\n",
        "x = P_inv @ b\n",
        "x_rounded = np.round(x, 3)\n",
        "print(\"\\nb) Nghiệm x của hệ phương trình:\")\n",
        "print(\"x =\", x_rounded)\n",
        "\n",
        "# c) Kiểm tra lại nghiệm\n",
        "b_check = P @ x\n",
        "b_check_rounded = np.round(b_check, 3)\n",
        "print(\"\\nc) Kiểm tra lại: P @ x =\")\n",
        "print(b_check_rounded)\n",
        "print(\"So sánh với vector b =\", b)\n",
        "\n",
        "# Sai số tuyệt đối\n",
        "diff = np.abs(b - b_check)\n",
        "print(\"\\n→ Sai số tuyệt đối:\", np.round(diff, 6))\n"
      ],
      "metadata": {
        "colab": {
          "base_uri": "https://localhost:8080/"
        },
        "id": "Qh3cSuaUoBaK",
        "outputId": "447187ed-3d20-4aca-d935-fa2763f9598b"
      },
      "execution_count": 7,
      "outputs": [
        {
          "output_type": "stream",
          "name": "stdout",
          "text": [
            "a) Ma trận nghịch đảo của P:\n",
            "[[ 0.5    0.1    0.1   -0.3  ]\n",
            " [-0.143  0.2    0.057  0.114]\n",
            " [-0.036 -0.05   0.164  0.079]\n",
            " [-0.321 -0.05  -0.121  0.507]]\n",
            "\n",
            "b) Nghiệm x của hệ phương trình:\n",
            "x = [2.    1.714 0.429 0.857]\n",
            "\n",
            "c) Kiểm tra lại: P @ x =\n",
            "[6. 8. 3. 7.]\n",
            "So sánh với vector b = [6. 8. 3. 7.]\n",
            "\n",
            "→ Sai số tuyệt đối: [0. 0. 0. 0.]\n"
          ]
        }
      ]
    },
    {
      "cell_type": "markdown",
      "source": [
        "#BÀI 4"
      ],
      "metadata": {
        "id": "43ZvhJuUorZI"
      }
    },
    {
      "cell_type": "code",
      "source": [
        "import numpy as np\n",
        "\n",
        "# Ma trận Q cho trước\n",
        "Q = np.array([\n",
        "    [5, -2, 1],\n",
        "    [0,  3, -1],\n",
        "    [2,  0, 4]\n",
        "])\n",
        "\n",
        "# Tính giá trị riêng và vector riêng\n",
        "eigenvalues, eigenvectors = np.linalg.eig(Q)\n",
        "\n",
        "# Làm tròn để dễ nhìn\n",
        "eigenvalues_rounded = np.round(eigenvalues, 3)\n",
        "eigenvectors_rounded = np.round(eigenvectors, 3)\n",
        "\n",
        "# a) Giá trị riêng\n",
        "print(\"\\n(a) Các giá trị riêng của Q:\")\n",
        "for i, val in enumerate(eigenvalues_rounded):\n",
        "    print(f\"  λ{i+1} = {val}\")\n",
        "\n",
        "# b) Vector riêng ứng với từng giá trị riêng\n",
        "print(\"\\n(b) Các vector riêng tương ứng:\")\n",
        "for i in range(len(eigenvalues)):\n",
        "    vec = eigenvectors[:, i]\n",
        "    print(f\"  Vector riêng v{i+1} ứng với λ{i+1} = {eigenvalues_rounded[i]}:\")\n",
        "    print(f\"    v{i+1} = {np.round(vec, 3)}\")\n",
        "\n",
        "# c) Chuẩn hóa vector riêng (norm = 1)\n",
        "print(\"\\n(c) Vector riêng sau khi chuẩn hóa:\")\n",
        "for i in range(len(eigenvalues)):\n",
        "    vec = eigenvectors[:, i]\n",
        "    vec_normalized = vec / np.linalg.norm(vec)\n",
        "    print(f\"  v{i+1} chuẩn hóa:\")\n",
        "    print(f\"    {np.round(vec_normalized, 3)}\")\n"
      ],
      "metadata": {
        "colab": {
          "base_uri": "https://localhost:8080/"
        },
        "id": "olpyxITNou8s",
        "outputId": "0e6be555-104e-47f6-a8cd-a6e37f1b40ae"
      },
      "execution_count": 12,
      "outputs": [
        {
          "output_type": "stream",
          "name": "stdout",
          "text": [
            "\n",
            "(a) Các giá trị riêng của Q:\n",
            "  λ1 = (6.355+0j)\n",
            "  λ2 = (2.822+1.077j)\n",
            "  λ3 = (2.822-1.077j)\n",
            "\n",
            "(b) Các vector riêng tương ứng:\n",
            "  Vector riêng v1 ứng với λ1 = (6.355+0j):\n",
            "    v1 = [ 0.748+0.j -0.189+0.j  0.636+0.j]\n",
            "  Vector riêng v2 ứng với λ2 = (2.822+1.077j):\n",
            "    v2 = [-0.374+0.342j  0.095+0.574j  0.636+0.j   ]\n",
            "  Vector riêng v3 ứng với λ3 = (2.822-1.077j):\n",
            "    v3 = [-0.374-0.342j  0.095-0.574j  0.636-0.j   ]\n",
            "\n",
            "(c) Vector riêng sau khi chuẩn hóa:\n",
            "  v1 chuẩn hóa:\n",
            "    [ 0.748+0.j -0.189+0.j  0.636+0.j]\n",
            "  v2 chuẩn hóa:\n",
            "    [-0.374+0.342j  0.095+0.574j  0.636+0.j   ]\n",
            "  v3 chuẩn hóa:\n",
            "    [-0.374-0.342j  0.095-0.574j  0.636-0.j   ]\n"
          ]
        }
      ]
    },
    {
      "cell_type": "markdown",
      "source": [
        "#BÀI 5"
      ],
      "metadata": {
        "id": "4BNADkm6p_-D"
      }
    },
    {
      "cell_type": "code",
      "source": [
        "import numpy as np\n",
        "\n",
        "# Dữ liệu đề bài\n",
        "R = np.array([\n",
        "    [4, -1, 2],\n",
        "    [1,  3, -2],\n",
        "    [0,  2,  5]\n",
        "])\n",
        "b = np.array([12, 5, 9])\n",
        "\n",
        "print(\"Ma trận R:\")\n",
        "print(R)\n",
        "print(\"\\nVector b:\")\n",
        "print(b)\n",
        "\n",
        "# a) Giải hệ phương trình Rx = b\n",
        "x = np.linalg.solve(R, b)\n",
        "x_rounded = np.round(x, 3)\n",
        "print(\"\\n(a) Nghiệm của hệ phương trình Rx = b là:\")\n",
        "print(f\"  x = {x_rounded}\")\n",
        "\n",
        "# b) Kiểm tra khả nghịch và giải lại bằng ma trận nghịch đảo\n",
        "det_R = np.linalg.det(R)\n",
        "print(f\"\\n(b) Định thức của R là: det(R) = {np.round(det_R, 3)}\")\n",
        "\n",
        "if det_R != 0:\n",
        "    R_inv = np.linalg.inv(R)\n",
        "    x_recomputed = R_inv @ b\n",
        "    x_recomputed_rounded = np.round(x_recomputed, 3)\n",
        "    print(\"\\n=> Ma trận R khả nghịch.\")\n",
        "    print(\"  Ma trận nghịch đảo R⁻¹ là:\")\n",
        "    print(np.round(R_inv, 3))\n",
        "    print(\"\\n  Giải lại hệ bằng R⁻¹ @ b:\")\n",
        "    print(f\"  x' = {x_recomputed_rounded}\")\n",
        "    print(\"\\n  So sánh: x và x' gần như bằng nhau (sai số làm tròn rất nhỏ)\")\n",
        "else:\n",
        "    print(\"=> Ma trận R không khả nghịch, không thể giải bằng ma trận nghịch đảo.\")\n",
        "\n",
        "# c) Tính chuẩn Frobenius của ma trận R\n",
        "fro_norm = np.linalg.norm(R, ord='fro')\n",
        "print(f\"\\n(c) Chuẩn Frobenius của ma trận R là: ||R||_F = {np.round(fro_norm, 3)}\")\n"
      ],
      "metadata": {
        "colab": {
          "base_uri": "https://localhost:8080/"
        },
        "id": "rQI0nSI1qBXR",
        "outputId": "7ae7061f-e00c-401a-d9e1-b6148eb089a4"
      },
      "execution_count": 11,
      "outputs": [
        {
          "output_type": "stream",
          "name": "stdout",
          "text": [
            "Ma trận R:\n",
            "[[ 4 -1  2]\n",
            " [ 1  3 -2]\n",
            " [ 0  2  5]]\n",
            "\n",
            "Vector b:\n",
            "[12  5  9]\n",
            "\n",
            "(a) Nghiệm của hệ phương trình Rx = b là:\n",
            "  x = [2.788 1.529 1.188]\n",
            "\n",
            "(b) Định thức của R là: det(R) = 85.0\n",
            "\n",
            "=> Ma trận R khả nghịch.\n",
            "  Ma trận nghịch đảo R⁻¹ là:\n",
            "[[ 0.224  0.106 -0.047]\n",
            " [-0.059  0.235  0.118]\n",
            " [ 0.024 -0.094  0.153]]\n",
            "\n",
            "  Giải lại hệ bằng R⁻¹ @ b:\n",
            "  x' = [2.788 1.529 1.188]\n",
            "\n",
            "  So sánh: x và x' gần như bằng nhau (sai số làm tròn rất nhỏ)\n",
            "\n",
            "(c) Chuẩn Frobenius của ma trận R là: ||R||_F = 8.0\n"
          ]
        }
      ]
    }
  ]
}